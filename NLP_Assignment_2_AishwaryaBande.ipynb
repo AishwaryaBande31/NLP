{
 "cells": [
  {
   "cell_type": "code",
   "execution_count": 1,
   "metadata": {
    "id": "PyuVmOggzZZz"
   },
   "outputs": [],
   "source": [
    "import pandas as pd\n",
    "import numpy as np\n",
    "import re"
   ]
  },
  {
   "cell_type": "code",
   "execution_count": 2,
   "metadata": {
    "id": "TPEQmxnwziFO"
   },
   "outputs": [],
   "source": [
    "import nltk"
   ]
  },
  {
   "cell_type": "code",
   "execution_count": 3,
   "metadata": {
    "colab": {
     "base_uri": "https://localhost:8080/"
    },
    "id": "pY3RkRJPzmjL",
    "outputId": "b7810bce-a8da-4d22-9351-8ac77a43ce2a"
   },
   "outputs": [
    {
     "name": "stderr",
     "output_type": "stream",
     "text": [
      "[nltk_data] Downloading collection 'all'\n",
      "[nltk_data]    | \n",
      "[nltk_data]    | Downloading package abc to C:\\Users\\Aishwarya\n",
      "[nltk_data]    |     Bande\\AppData\\Roaming\\nltk_data...\n",
      "[nltk_data]    |   Package abc is already up-to-date!\n",
      "[nltk_data]    | Downloading package alpino to C:\\Users\\Aishwarya\n",
      "[nltk_data]    |     Bande\\AppData\\Roaming\\nltk_data...\n",
      "[nltk_data]    |   Package alpino is already up-to-date!\n",
      "[nltk_data]    | Downloading package biocreative_ppi to\n",
      "[nltk_data]    |     C:\\Users\\Aishwarya\n",
      "[nltk_data]    |     Bande\\AppData\\Roaming\\nltk_data...\n",
      "[nltk_data]    |   Package biocreative_ppi is already up-to-date!\n",
      "[nltk_data]    | Downloading package brown to C:\\Users\\Aishwarya\n",
      "[nltk_data]    |     Bande\\AppData\\Roaming\\nltk_data...\n",
      "[nltk_data]    |   Package brown is already up-to-date!\n",
      "[nltk_data]    | Downloading package brown_tei to C:\\Users\\Aishwarya\n",
      "[nltk_data]    |     Bande\\AppData\\Roaming\\nltk_data...\n",
      "[nltk_data]    |   Package brown_tei is already up-to-date!\n",
      "[nltk_data]    | Downloading package cess_cat to C:\\Users\\Aishwarya\n",
      "[nltk_data]    |     Bande\\AppData\\Roaming\\nltk_data...\n",
      "[nltk_data]    |   Package cess_cat is already up-to-date!\n",
      "[nltk_data]    | Downloading package cess_esp to C:\\Users\\Aishwarya\n",
      "[nltk_data]    |     Bande\\AppData\\Roaming\\nltk_data...\n",
      "[nltk_data]    |   Package cess_esp is already up-to-date!\n",
      "[nltk_data]    | Downloading package chat80 to C:\\Users\\Aishwarya\n",
      "[nltk_data]    |     Bande\\AppData\\Roaming\\nltk_data...\n",
      "[nltk_data]    |   Package chat80 is already up-to-date!\n",
      "[nltk_data]    | Downloading package city_database to\n",
      "[nltk_data]    |     C:\\Users\\Aishwarya\n",
      "[nltk_data]    |     Bande\\AppData\\Roaming\\nltk_data...\n",
      "[nltk_data]    |   Package city_database is already up-to-date!\n",
      "[nltk_data]    | Downloading package cmudict to C:\\Users\\Aishwarya\n",
      "[nltk_data]    |     Bande\\AppData\\Roaming\\nltk_data...\n",
      "[nltk_data]    |   Package cmudict is already up-to-date!\n",
      "[nltk_data]    | Downloading package comparative_sentences to\n",
      "[nltk_data]    |     C:\\Users\\Aishwarya\n",
      "[nltk_data]    |     Bande\\AppData\\Roaming\\nltk_data...\n",
      "[nltk_data]    |   Package comparative_sentences is already up-to-\n",
      "[nltk_data]    |       date!\n",
      "[nltk_data]    | Downloading package comtrans to C:\\Users\\Aishwarya\n",
      "[nltk_data]    |     Bande\\AppData\\Roaming\\nltk_data...\n",
      "[nltk_data]    |   Package comtrans is already up-to-date!\n",
      "[nltk_data]    | Downloading package conll2000 to C:\\Users\\Aishwarya\n",
      "[nltk_data]    |     Bande\\AppData\\Roaming\\nltk_data...\n",
      "[nltk_data]    |   Package conll2000 is already up-to-date!\n",
      "[nltk_data]    | Downloading package conll2002 to C:\\Users\\Aishwarya\n",
      "[nltk_data]    |     Bande\\AppData\\Roaming\\nltk_data...\n",
      "[nltk_data]    |   Package conll2002 is already up-to-date!\n",
      "[nltk_data]    | Downloading package conll2007 to C:\\Users\\Aishwarya\n",
      "[nltk_data]    |     Bande\\AppData\\Roaming\\nltk_data...\n",
      "[nltk_data]    |   Package conll2007 is already up-to-date!\n",
      "[nltk_data]    | Downloading package crubadan to C:\\Users\\Aishwarya\n",
      "[nltk_data]    |     Bande\\AppData\\Roaming\\nltk_data...\n",
      "[nltk_data]    |   Package crubadan is already up-to-date!\n",
      "[nltk_data]    | Downloading package dependency_treebank to\n",
      "[nltk_data]    |     C:\\Users\\Aishwarya\n",
      "[nltk_data]    |     Bande\\AppData\\Roaming\\nltk_data...\n",
      "[nltk_data]    |   Package dependency_treebank is already up-to-date!\n",
      "[nltk_data]    | Downloading package dolch to C:\\Users\\Aishwarya\n",
      "[nltk_data]    |     Bande\\AppData\\Roaming\\nltk_data...\n",
      "[nltk_data]    |   Package dolch is already up-to-date!\n",
      "[nltk_data]    | Downloading package europarl_raw to\n",
      "[nltk_data]    |     C:\\Users\\Aishwarya\n",
      "[nltk_data]    |     Bande\\AppData\\Roaming\\nltk_data...\n",
      "[nltk_data]    |   Package europarl_raw is already up-to-date!\n",
      "[nltk_data]    | Downloading package floresta to C:\\Users\\Aishwarya\n",
      "[nltk_data]    |     Bande\\AppData\\Roaming\\nltk_data...\n",
      "[nltk_data]    |   Package floresta is already up-to-date!\n",
      "[nltk_data]    | Downloading package framenet_v15 to\n",
      "[nltk_data]    |     C:\\Users\\Aishwarya\n",
      "[nltk_data]    |     Bande\\AppData\\Roaming\\nltk_data...\n",
      "[nltk_data]    |   Package framenet_v15 is already up-to-date!\n",
      "[nltk_data]    | Downloading package framenet_v17 to\n",
      "[nltk_data]    |     C:\\Users\\Aishwarya\n",
      "[nltk_data]    |     Bande\\AppData\\Roaming\\nltk_data...\n",
      "[nltk_data]    |   Package framenet_v17 is already up-to-date!\n",
      "[nltk_data]    | Downloading package gazetteers to C:\\Users\\Aishwarya\n",
      "[nltk_data]    |     Bande\\AppData\\Roaming\\nltk_data...\n",
      "[nltk_data]    |   Package gazetteers is already up-to-date!\n",
      "[nltk_data]    | Downloading package genesis to C:\\Users\\Aishwarya\n",
      "[nltk_data]    |     Bande\\AppData\\Roaming\\nltk_data...\n",
      "[nltk_data]    |   Package genesis is already up-to-date!\n",
      "[nltk_data]    | Downloading package gutenberg to C:\\Users\\Aishwarya\n",
      "[nltk_data]    |     Bande\\AppData\\Roaming\\nltk_data...\n",
      "[nltk_data]    |   Package gutenberg is already up-to-date!\n",
      "[nltk_data]    | Downloading package ieer to C:\\Users\\Aishwarya\n",
      "[nltk_data]    |     Bande\\AppData\\Roaming\\nltk_data...\n",
      "[nltk_data]    |   Package ieer is already up-to-date!\n",
      "[nltk_data]    | Downloading package inaugural to C:\\Users\\Aishwarya\n",
      "[nltk_data]    |     Bande\\AppData\\Roaming\\nltk_data...\n",
      "[nltk_data]    |   Package inaugural is already up-to-date!\n",
      "[nltk_data]    | Downloading package indian to C:\\Users\\Aishwarya\n",
      "[nltk_data]    |     Bande\\AppData\\Roaming\\nltk_data...\n",
      "[nltk_data]    |   Package indian is already up-to-date!\n",
      "[nltk_data]    | Downloading package jeita to C:\\Users\\Aishwarya\n",
      "[nltk_data]    |     Bande\\AppData\\Roaming\\nltk_data...\n",
      "[nltk_data]    |   Package jeita is already up-to-date!\n",
      "[nltk_data]    | Downloading package kimmo to C:\\Users\\Aishwarya\n",
      "[nltk_data]    |     Bande\\AppData\\Roaming\\nltk_data...\n",
      "[nltk_data]    |   Package kimmo is already up-to-date!\n",
      "[nltk_data]    | Downloading package knbc to C:\\Users\\Aishwarya\n",
      "[nltk_data]    |     Bande\\AppData\\Roaming\\nltk_data...\n",
      "[nltk_data]    |   Package knbc is already up-to-date!\n",
      "[nltk_data]    | Downloading package lin_thesaurus to\n",
      "[nltk_data]    |     C:\\Users\\Aishwarya\n",
      "[nltk_data]    |     Bande\\AppData\\Roaming\\nltk_data...\n",
      "[nltk_data]    |   Package lin_thesaurus is already up-to-date!\n",
      "[nltk_data]    | Downloading package mac_morpho to C:\\Users\\Aishwarya\n",
      "[nltk_data]    |     Bande\\AppData\\Roaming\\nltk_data...\n",
      "[nltk_data]    |   Package mac_morpho is already up-to-date!\n",
      "[nltk_data]    | Downloading package machado to C:\\Users\\Aishwarya\n",
      "[nltk_data]    |     Bande\\AppData\\Roaming\\nltk_data...\n",
      "[nltk_data]    |   Package machado is already up-to-date!\n",
      "[nltk_data]    | Downloading package masc_tagged to C:\\Users\\Aishwarya\n",
      "[nltk_data]    |     Bande\\AppData\\Roaming\\nltk_data...\n",
      "[nltk_data]    |   Package masc_tagged is already up-to-date!\n",
      "[nltk_data]    | Downloading package moses_sample to\n",
      "[nltk_data]    |     C:\\Users\\Aishwarya\n",
      "[nltk_data]    |     Bande\\AppData\\Roaming\\nltk_data...\n",
      "[nltk_data]    |   Package moses_sample is already up-to-date!\n",
      "[nltk_data]    | Downloading package movie_reviews to\n",
      "[nltk_data]    |     C:\\Users\\Aishwarya\n",
      "[nltk_data]    |     Bande\\AppData\\Roaming\\nltk_data...\n",
      "[nltk_data]    |   Package movie_reviews is already up-to-date!\n",
      "[nltk_data]    | Downloading package names to C:\\Users\\Aishwarya\n",
      "[nltk_data]    |     Bande\\AppData\\Roaming\\nltk_data...\n",
      "[nltk_data]    |   Package names is already up-to-date!\n",
      "[nltk_data]    | Downloading package nombank.1.0 to C:\\Users\\Aishwarya\n",
      "[nltk_data]    |     Bande\\AppData\\Roaming\\nltk_data...\n",
      "[nltk_data]    |   Package nombank.1.0 is already up-to-date!\n",
      "[nltk_data]    | Downloading package nps_chat to C:\\Users\\Aishwarya\n",
      "[nltk_data]    |     Bande\\AppData\\Roaming\\nltk_data...\n",
      "[nltk_data]    |   Package nps_chat is already up-to-date!\n",
      "[nltk_data]    | Downloading package omw to C:\\Users\\Aishwarya\n",
      "[nltk_data]    |     Bande\\AppData\\Roaming\\nltk_data...\n",
      "[nltk_data]    |   Package omw is already up-to-date!\n",
      "[nltk_data]    | Downloading package opinion_lexicon to\n",
      "[nltk_data]    |     C:\\Users\\Aishwarya\n",
      "[nltk_data]    |     Bande\\AppData\\Roaming\\nltk_data...\n",
      "[nltk_data]    |   Package opinion_lexicon is already up-to-date!\n",
      "[nltk_data]    | Downloading package paradigms to C:\\Users\\Aishwarya\n",
      "[nltk_data]    |     Bande\\AppData\\Roaming\\nltk_data...\n",
      "[nltk_data]    |   Package paradigms is already up-to-date!\n",
      "[nltk_data]    | Downloading package pil to C:\\Users\\Aishwarya\n",
      "[nltk_data]    |     Bande\\AppData\\Roaming\\nltk_data...\n",
      "[nltk_data]    |   Package pil is already up-to-date!\n",
      "[nltk_data]    | Downloading package pl196x to C:\\Users\\Aishwarya\n",
      "[nltk_data]    |     Bande\\AppData\\Roaming\\nltk_data...\n"
     ]
    },
    {
     "name": "stderr",
     "output_type": "stream",
     "text": [
      "[nltk_data]    |   Package pl196x is already up-to-date!\n",
      "[nltk_data]    | Downloading package ppattach to C:\\Users\\Aishwarya\n",
      "[nltk_data]    |     Bande\\AppData\\Roaming\\nltk_data...\n",
      "[nltk_data]    |   Package ppattach is already up-to-date!\n",
      "[nltk_data]    | Downloading package problem_reports to\n",
      "[nltk_data]    |     C:\\Users\\Aishwarya\n",
      "[nltk_data]    |     Bande\\AppData\\Roaming\\nltk_data...\n",
      "[nltk_data]    |   Package problem_reports is already up-to-date!\n",
      "[nltk_data]    | Downloading package propbank to C:\\Users\\Aishwarya\n",
      "[nltk_data]    |     Bande\\AppData\\Roaming\\nltk_data...\n",
      "[nltk_data]    |   Package propbank is already up-to-date!\n",
      "[nltk_data]    | Downloading package ptb to C:\\Users\\Aishwarya\n",
      "[nltk_data]    |     Bande\\AppData\\Roaming\\nltk_data...\n",
      "[nltk_data]    |   Package ptb is already up-to-date!\n",
      "[nltk_data]    | Downloading package product_reviews_1 to\n",
      "[nltk_data]    |     C:\\Users\\Aishwarya\n",
      "[nltk_data]    |     Bande\\AppData\\Roaming\\nltk_data...\n",
      "[nltk_data]    |   Package product_reviews_1 is already up-to-date!\n",
      "[nltk_data]    | Downloading package product_reviews_2 to\n",
      "[nltk_data]    |     C:\\Users\\Aishwarya\n",
      "[nltk_data]    |     Bande\\AppData\\Roaming\\nltk_data...\n",
      "[nltk_data]    |   Package product_reviews_2 is already up-to-date!\n",
      "[nltk_data]    | Downloading package pros_cons to C:\\Users\\Aishwarya\n",
      "[nltk_data]    |     Bande\\AppData\\Roaming\\nltk_data...\n",
      "[nltk_data]    |   Package pros_cons is already up-to-date!\n",
      "[nltk_data]    | Downloading package qc to C:\\Users\\Aishwarya\n",
      "[nltk_data]    |     Bande\\AppData\\Roaming\\nltk_data...\n",
      "[nltk_data]    |   Package qc is already up-to-date!\n",
      "[nltk_data]    | Downloading package reuters to C:\\Users\\Aishwarya\n",
      "[nltk_data]    |     Bande\\AppData\\Roaming\\nltk_data...\n",
      "[nltk_data]    |   Package reuters is already up-to-date!\n",
      "[nltk_data]    | Downloading package rte to C:\\Users\\Aishwarya\n",
      "[nltk_data]    |     Bande\\AppData\\Roaming\\nltk_data...\n",
      "[nltk_data]    |   Package rte is already up-to-date!\n",
      "[nltk_data]    | Downloading package semcor to C:\\Users\\Aishwarya\n",
      "[nltk_data]    |     Bande\\AppData\\Roaming\\nltk_data...\n",
      "[nltk_data]    |   Package semcor is already up-to-date!\n",
      "[nltk_data]    | Downloading package senseval to C:\\Users\\Aishwarya\n",
      "[nltk_data]    |     Bande\\AppData\\Roaming\\nltk_data...\n",
      "[nltk_data]    |   Package senseval is already up-to-date!\n",
      "[nltk_data]    | Downloading package sentiwordnet to\n",
      "[nltk_data]    |     C:\\Users\\Aishwarya\n",
      "[nltk_data]    |     Bande\\AppData\\Roaming\\nltk_data...\n",
      "[nltk_data]    |   Package sentiwordnet is already up-to-date!\n",
      "[nltk_data]    | Downloading package sentence_polarity to\n",
      "[nltk_data]    |     C:\\Users\\Aishwarya\n",
      "[nltk_data]    |     Bande\\AppData\\Roaming\\nltk_data...\n",
      "[nltk_data]    |   Package sentence_polarity is already up-to-date!\n",
      "[nltk_data]    | Downloading package shakespeare to C:\\Users\\Aishwarya\n",
      "[nltk_data]    |     Bande\\AppData\\Roaming\\nltk_data...\n",
      "[nltk_data]    |   Package shakespeare is already up-to-date!\n",
      "[nltk_data]    | Downloading package sinica_treebank to\n",
      "[nltk_data]    |     C:\\Users\\Aishwarya\n",
      "[nltk_data]    |     Bande\\AppData\\Roaming\\nltk_data...\n",
      "[nltk_data]    |   Package sinica_treebank is already up-to-date!\n",
      "[nltk_data]    | Downloading package smultron to C:\\Users\\Aishwarya\n",
      "[nltk_data]    |     Bande\\AppData\\Roaming\\nltk_data...\n",
      "[nltk_data]    |   Package smultron is already up-to-date!\n",
      "[nltk_data]    | Downloading package state_union to C:\\Users\\Aishwarya\n",
      "[nltk_data]    |     Bande\\AppData\\Roaming\\nltk_data...\n",
      "[nltk_data]    |   Package state_union is already up-to-date!\n",
      "[nltk_data]    | Downloading package stopwords to C:\\Users\\Aishwarya\n",
      "[nltk_data]    |     Bande\\AppData\\Roaming\\nltk_data...\n",
      "[nltk_data]    |   Package stopwords is already up-to-date!\n",
      "[nltk_data]    | Downloading package subjectivity to\n",
      "[nltk_data]    |     C:\\Users\\Aishwarya\n",
      "[nltk_data]    |     Bande\\AppData\\Roaming\\nltk_data...\n",
      "[nltk_data]    |   Package subjectivity is already up-to-date!\n",
      "[nltk_data]    | Downloading package swadesh to C:\\Users\\Aishwarya\n",
      "[nltk_data]    |     Bande\\AppData\\Roaming\\nltk_data...\n",
      "[nltk_data]    |   Package swadesh is already up-to-date!\n",
      "[nltk_data]    | Downloading package switchboard to C:\\Users\\Aishwarya\n",
      "[nltk_data]    |     Bande\\AppData\\Roaming\\nltk_data...\n",
      "[nltk_data]    |   Package switchboard is already up-to-date!\n",
      "[nltk_data]    | Downloading package timit to C:\\Users\\Aishwarya\n",
      "[nltk_data]    |     Bande\\AppData\\Roaming\\nltk_data...\n",
      "[nltk_data]    |   Package timit is already up-to-date!\n",
      "[nltk_data]    | Downloading package toolbox to C:\\Users\\Aishwarya\n",
      "[nltk_data]    |     Bande\\AppData\\Roaming\\nltk_data...\n",
      "[nltk_data]    |   Package toolbox is already up-to-date!\n",
      "[nltk_data]    | Downloading package treebank to C:\\Users\\Aishwarya\n",
      "[nltk_data]    |     Bande\\AppData\\Roaming\\nltk_data...\n",
      "[nltk_data]    |   Package treebank is already up-to-date!\n",
      "[nltk_data]    | Downloading package twitter_samples to\n",
      "[nltk_data]    |     C:\\Users\\Aishwarya\n",
      "[nltk_data]    |     Bande\\AppData\\Roaming\\nltk_data...\n",
      "[nltk_data]    |   Package twitter_samples is already up-to-date!\n",
      "[nltk_data]    | Downloading package udhr to C:\\Users\\Aishwarya\n",
      "[nltk_data]    |     Bande\\AppData\\Roaming\\nltk_data...\n",
      "[nltk_data]    |   Package udhr is already up-to-date!\n",
      "[nltk_data]    | Downloading package udhr2 to C:\\Users\\Aishwarya\n",
      "[nltk_data]    |     Bande\\AppData\\Roaming\\nltk_data...\n",
      "[nltk_data]    |   Package udhr2 is already up-to-date!\n",
      "[nltk_data]    | Downloading package unicode_samples to\n",
      "[nltk_data]    |     C:\\Users\\Aishwarya\n",
      "[nltk_data]    |     Bande\\AppData\\Roaming\\nltk_data...\n",
      "[nltk_data]    |   Package unicode_samples is already up-to-date!\n",
      "[nltk_data]    | Downloading package universal_treebanks_v20 to\n",
      "[nltk_data]    |     C:\\Users\\Aishwarya\n",
      "[nltk_data]    |     Bande\\AppData\\Roaming\\nltk_data...\n",
      "[nltk_data]    |   Package universal_treebanks_v20 is already up-to-\n",
      "[nltk_data]    |       date!\n",
      "[nltk_data]    | Downloading package verbnet to C:\\Users\\Aishwarya\n",
      "[nltk_data]    |     Bande\\AppData\\Roaming\\nltk_data...\n",
      "[nltk_data]    |   Package verbnet is already up-to-date!\n",
      "[nltk_data]    | Downloading package verbnet3 to C:\\Users\\Aishwarya\n",
      "[nltk_data]    |     Bande\\AppData\\Roaming\\nltk_data...\n",
      "[nltk_data]    |   Package verbnet3 is already up-to-date!\n",
      "[nltk_data]    | Downloading package webtext to C:\\Users\\Aishwarya\n",
      "[nltk_data]    |     Bande\\AppData\\Roaming\\nltk_data...\n",
      "[nltk_data]    |   Package webtext is already up-to-date!\n",
      "[nltk_data]    | Downloading package wordnet to C:\\Users\\Aishwarya\n",
      "[nltk_data]    |     Bande\\AppData\\Roaming\\nltk_data...\n",
      "[nltk_data]    |   Package wordnet is already up-to-date!\n",
      "[nltk_data]    | Downloading package wordnet_ic to C:\\Users\\Aishwarya\n",
      "[nltk_data]    |     Bande\\AppData\\Roaming\\nltk_data...\n",
      "[nltk_data]    |   Package wordnet_ic is already up-to-date!\n",
      "[nltk_data]    | Downloading package words to C:\\Users\\Aishwarya\n",
      "[nltk_data]    |     Bande\\AppData\\Roaming\\nltk_data...\n",
      "[nltk_data]    |   Package words is already up-to-date!\n",
      "[nltk_data]    | Downloading package ycoe to C:\\Users\\Aishwarya\n",
      "[nltk_data]    |     Bande\\AppData\\Roaming\\nltk_data...\n",
      "[nltk_data]    |   Package ycoe is already up-to-date!\n",
      "[nltk_data]    | Downloading package rslp to C:\\Users\\Aishwarya\n",
      "[nltk_data]    |     Bande\\AppData\\Roaming\\nltk_data...\n",
      "[nltk_data]    |   Package rslp is already up-to-date!\n",
      "[nltk_data]    | Downloading package maxent_treebank_pos_tagger to\n",
      "[nltk_data]    |     C:\\Users\\Aishwarya\n",
      "[nltk_data]    |     Bande\\AppData\\Roaming\\nltk_data...\n",
      "[nltk_data]    |   Package maxent_treebank_pos_tagger is already up-\n",
      "[nltk_data]    |       to-date!\n",
      "[nltk_data]    | Downloading package universal_tagset to\n",
      "[nltk_data]    |     C:\\Users\\Aishwarya\n",
      "[nltk_data]    |     Bande\\AppData\\Roaming\\nltk_data...\n",
      "[nltk_data]    |   Package universal_tagset is already up-to-date!\n",
      "[nltk_data]    | Downloading package maxent_ne_chunker to\n",
      "[nltk_data]    |     C:\\Users\\Aishwarya\n",
      "[nltk_data]    |     Bande\\AppData\\Roaming\\nltk_data...\n",
      "[nltk_data]    |   Package maxent_ne_chunker is already up-to-date!\n",
      "[nltk_data]    | Downloading package punkt to C:\\Users\\Aishwarya\n",
      "[nltk_data]    |     Bande\\AppData\\Roaming\\nltk_data...\n",
      "[nltk_data]    |   Package punkt is already up-to-date!\n",
      "[nltk_data]    | Downloading package book_grammars to\n",
      "[nltk_data]    |     C:\\Users\\Aishwarya\n",
      "[nltk_data]    |     Bande\\AppData\\Roaming\\nltk_data...\n",
      "[nltk_data]    |   Package book_grammars is already up-to-date!\n",
      "[nltk_data]    | Downloading package sample_grammars to\n",
      "[nltk_data]    |     C:\\Users\\Aishwarya\n",
      "[nltk_data]    |     Bande\\AppData\\Roaming\\nltk_data...\n",
      "[nltk_data]    |   Package sample_grammars is already up-to-date!\n",
      "[nltk_data]    | Downloading package spanish_grammars to\n",
      "[nltk_data]    |     C:\\Users\\Aishwarya\n",
      "[nltk_data]    |     Bande\\AppData\\Roaming\\nltk_data...\n",
      "[nltk_data]    |   Package spanish_grammars is already up-to-date!\n",
      "[nltk_data]    | Downloading package basque_grammars to\n",
      "[nltk_data]    |     C:\\Users\\Aishwarya\n",
      "[nltk_data]    |     Bande\\AppData\\Roaming\\nltk_data...\n",
      "[nltk_data]    |   Package basque_grammars is already up-to-date!\n",
      "[nltk_data]    | Downloading package large_grammars to\n",
      "[nltk_data]    |     C:\\Users\\Aishwarya\n",
      "[nltk_data]    |     Bande\\AppData\\Roaming\\nltk_data...\n",
      "[nltk_data]    |   Package large_grammars is already up-to-date!\n",
      "[nltk_data]    | Downloading package tagsets to C:\\Users\\Aishwarya\n",
      "[nltk_data]    |     Bande\\AppData\\Roaming\\nltk_data...\n",
      "[nltk_data]    |   Package tagsets is already up-to-date!\n",
      "[nltk_data]    | Downloading package snowball_data to\n",
      "[nltk_data]    |     C:\\Users\\Aishwarya\n",
      "[nltk_data]    |     Bande\\AppData\\Roaming\\nltk_data...\n"
     ]
    },
    {
     "name": "stderr",
     "output_type": "stream",
     "text": [
      "[nltk_data]    |   Package snowball_data is already up-to-date!\n",
      "[nltk_data]    | Downloading package bllip_wsj_no_aux to\n",
      "[nltk_data]    |     C:\\Users\\Aishwarya\n",
      "[nltk_data]    |     Bande\\AppData\\Roaming\\nltk_data...\n",
      "[nltk_data]    |   Package bllip_wsj_no_aux is already up-to-date!\n",
      "[nltk_data]    | Downloading package word2vec_sample to\n",
      "[nltk_data]    |     C:\\Users\\Aishwarya\n",
      "[nltk_data]    |     Bande\\AppData\\Roaming\\nltk_data...\n",
      "[nltk_data]    |   Package word2vec_sample is already up-to-date!\n",
      "[nltk_data]    | Downloading package panlex_swadesh to\n",
      "[nltk_data]    |     C:\\Users\\Aishwarya\n",
      "[nltk_data]    |     Bande\\AppData\\Roaming\\nltk_data...\n",
      "[nltk_data]    |   Package panlex_swadesh is already up-to-date!\n",
      "[nltk_data]    | Downloading package mte_teip5 to C:\\Users\\Aishwarya\n",
      "[nltk_data]    |     Bande\\AppData\\Roaming\\nltk_data...\n",
      "[nltk_data]    |   Package mte_teip5 is already up-to-date!\n",
      "[nltk_data]    | Downloading package averaged_perceptron_tagger to\n",
      "[nltk_data]    |     C:\\Users\\Aishwarya\n",
      "[nltk_data]    |     Bande\\AppData\\Roaming\\nltk_data...\n",
      "[nltk_data]    |   Package averaged_perceptron_tagger is already up-\n",
      "[nltk_data]    |       to-date!\n",
      "[nltk_data]    | Downloading package averaged_perceptron_tagger_ru to\n",
      "[nltk_data]    |     C:\\Users\\Aishwarya\n",
      "[nltk_data]    |     Bande\\AppData\\Roaming\\nltk_data...\n",
      "[nltk_data]    |   Package averaged_perceptron_tagger_ru is already\n",
      "[nltk_data]    |       up-to-date!\n",
      "[nltk_data]    | Downloading package perluniprops to\n",
      "[nltk_data]    |     C:\\Users\\Aishwarya\n",
      "[nltk_data]    |     Bande\\AppData\\Roaming\\nltk_data...\n",
      "[nltk_data]    |   Package perluniprops is already up-to-date!\n",
      "[nltk_data]    | Downloading package nonbreaking_prefixes to\n",
      "[nltk_data]    |     C:\\Users\\Aishwarya\n",
      "[nltk_data]    |     Bande\\AppData\\Roaming\\nltk_data...\n",
      "[nltk_data]    |   Package nonbreaking_prefixes is already up-to-date!\n",
      "[nltk_data]    | Downloading package vader_lexicon to\n",
      "[nltk_data]    |     C:\\Users\\Aishwarya\n",
      "[nltk_data]    |     Bande\\AppData\\Roaming\\nltk_data...\n",
      "[nltk_data]    |   Package vader_lexicon is already up-to-date!\n",
      "[nltk_data]    | Downloading package porter_test to C:\\Users\\Aishwarya\n",
      "[nltk_data]    |     Bande\\AppData\\Roaming\\nltk_data...\n",
      "[nltk_data]    |   Package porter_test is already up-to-date!\n",
      "[nltk_data]    | Downloading package wmt15_eval to C:\\Users\\Aishwarya\n",
      "[nltk_data]    |     Bande\\AppData\\Roaming\\nltk_data...\n",
      "[nltk_data]    |   Package wmt15_eval is already up-to-date!\n",
      "[nltk_data]    | Downloading package mwa_ppdb to C:\\Users\\Aishwarya\n",
      "[nltk_data]    |     Bande\\AppData\\Roaming\\nltk_data...\n",
      "[nltk_data]    |   Package mwa_ppdb is already up-to-date!\n",
      "[nltk_data]    | \n",
      "[nltk_data]  Done downloading collection all\n"
     ]
    },
    {
     "data": {
      "text/plain": [
       "True"
      ]
     },
     "execution_count": 3,
     "metadata": {},
     "output_type": "execute_result"
    }
   ],
   "source": [
    "nltk.download('all')"
   ]
  },
  {
   "cell_type": "code",
   "execution_count": 5,
   "metadata": {
    "colab": {
     "base_uri": "https://localhost:8080/",
     "height": 200
    },
    "id": "8ctIaNBUH2dQ",
    "outputId": "7d721c66-b004-49b2-b166-e02cc6f0036b"
   },
   "outputs": [
    {
     "data": {
      "text/html": [
       "<div>\n",
       "<style scoped>\n",
       "    .dataframe tbody tr th:only-of-type {\n",
       "        vertical-align: middle;\n",
       "    }\n",
       "\n",
       "    .dataframe tbody tr th {\n",
       "        vertical-align: top;\n",
       "    }\n",
       "\n",
       "    .dataframe thead th {\n",
       "        text-align: right;\n",
       "    }\n",
       "</style>\n",
       "<table border=\"1\" class=\"dataframe\">\n",
       "  <thead>\n",
       "    <tr style=\"text-align: right;\">\n",
       "      <th></th>\n",
       "      <th>review</th>\n",
       "      <th>sentiment</th>\n",
       "    </tr>\n",
       "  </thead>\n",
       "  <tbody>\n",
       "    <tr>\n",
       "      <th>0</th>\n",
       "      <td>One of the other reviewers has mentioned that ...</td>\n",
       "      <td>positive</td>\n",
       "    </tr>\n",
       "    <tr>\n",
       "      <th>1</th>\n",
       "      <td>A wonderful little production. &lt;br /&gt;&lt;br /&gt;The...</td>\n",
       "      <td>positive</td>\n",
       "    </tr>\n",
       "    <tr>\n",
       "      <th>2</th>\n",
       "      <td>I thought this was a wonderful way to spend ti...</td>\n",
       "      <td>positive</td>\n",
       "    </tr>\n",
       "    <tr>\n",
       "      <th>3</th>\n",
       "      <td>Basically there's a family where a little boy ...</td>\n",
       "      <td>negative</td>\n",
       "    </tr>\n",
       "    <tr>\n",
       "      <th>4</th>\n",
       "      <td>Petter Mattei's \"Love in the Time of Money\" is...</td>\n",
       "      <td>positive</td>\n",
       "    </tr>\n",
       "  </tbody>\n",
       "</table>\n",
       "</div>"
      ],
      "text/plain": [
       "                                              review sentiment\n",
       "0  One of the other reviewers has mentioned that ...  positive\n",
       "1  A wonderful little production. <br /><br />The...  positive\n",
       "2  I thought this was a wonderful way to spend ti...  positive\n",
       "3  Basically there's a family where a little boy ...  negative\n",
       "4  Petter Mattei's \"Love in the Time of Money\" is...  positive"
      ]
     },
     "execution_count": 5,
     "metadata": {},
     "output_type": "execute_result"
    }
   ],
   "source": [
    "df=pd.read_csv(\"IMDB Dataset.csv\")\n",
    "df.head(5)"
   ]
  },
  {
   "cell_type": "code",
   "execution_count": 6,
   "metadata": {
    "colab": {
     "base_uri": "https://localhost:8080/"
    },
    "id": "Of7OylkQ1znf",
    "outputId": "d3909a5b-dd7c-49d3-af5c-3c13577f4b6d"
   },
   "outputs": [
    {
     "data": {
      "text/plain": [
       "review       0\n",
       "sentiment    0\n",
       "dtype: int64"
      ]
     },
     "execution_count": 6,
     "metadata": {},
     "output_type": "execute_result"
    }
   ],
   "source": [
    "df.isnull().sum()"
   ]
  },
  {
   "cell_type": "code",
   "execution_count": 7,
   "metadata": {
    "colab": {
     "base_uri": "https://localhost:8080/"
    },
    "id": "DMUpaiqAlhe2",
    "outputId": "6553d0a3-4c17-4b2c-af38-f36b49c0a192"
   },
   "outputs": [
    {
     "data": {
      "text/plain": [
       "(50000, 2)"
      ]
     },
     "execution_count": 7,
     "metadata": {},
     "output_type": "execute_result"
    }
   ],
   "source": [
    "df.shape"
   ]
  },
  {
   "cell_type": "code",
   "execution_count": 8,
   "metadata": {
    "id": "UoqA60rF17pC"
   },
   "outputs": [],
   "source": [
    "reviews =df.review[:5000].values\n",
    "sentiment=df.sentiment[:5000].values "
   ]
  },
  {
   "cell_type": "code",
   "execution_count": 9,
   "metadata": {
    "id": "bmzeJLcd5woJ"
   },
   "outputs": [],
   "source": [
    "doc=[]\n",
    "for i,j in enumerate(reviews):\n",
    "  doc.append((j,sentiment[i]))"
   ]
  },
  {
   "cell_type": "code",
   "execution_count": 10,
   "metadata": {
    "colab": {
     "base_uri": "https://localhost:8080/"
    },
    "id": "KRBNba2x6DJz",
    "outputId": "866cdf12-e63a-4730-eb5c-b1186276999f"
   },
   "outputs": [
    {
     "data": {
      "text/plain": [
       "('A wonderful little production. <br /><br />The filming technique is very unassuming- very old-time-BBC fashion and gives a comforting, and sometimes discomforting, sense of realism to the entire piece. <br /><br />The actors are extremely well chosen- Michael Sheen not only \"has got all the polari\" but he has all the voices down pat too! You can truly see the seamless editing guided by the references to Williams\\' diary entries, not only is it well worth the watching but it is a terrificly written and performed piece. A masterful production about one of the great master\\'s of comedy and his life. <br /><br />The realism really comes home with the little things: the fantasy of the guard which, rather than use the traditional \\'dream\\' techniques remains solid then disappears. It plays on our knowledge and our senses, particularly with the scenes concerning Orton and Halliwell and the sets (particularly of their flat with Halliwell\\'s murals decorating every surface) are terribly well done.',\n",
       " 'positive')"
      ]
     },
     "execution_count": 10,
     "metadata": {},
     "output_type": "execute_result"
    }
   ],
   "source": [
    "doc[1]"
   ]
  },
  {
   "cell_type": "code",
   "execution_count": 11,
   "metadata": {
    "colab": {
     "base_uri": "https://localhost:8080/"
    },
    "id": "maGGH2lH6IAj",
    "outputId": "b314d522-0935-43a3-87da-5b8664c76e80"
   },
   "outputs": [
    {
     "data": {
      "text/plain": [
       "('this movie is not as bad as some say it is infact i think it`s more enjoyable than the original . maybe that`s why some people hate it as much cos they dont want to admit it`s a good (not great) movie.<br /><br />most if not all fx were done by C.G.I which i didn`t mind at all cos it was an enjoyable movie. Phil Buckman - (Chris) was in my opinion the best guy in the movie Julie Delpy was rather attractive she brought the sexiness to the movie.<br /><br />there were a lot of wisecracks in the movie which i thought were good. this movie is in my collection but the original is not because i dont like it as much as this one. i was not bored when i watched this movie it kept me watching unlike some horror movies i could mention like oh say = driller killer & suspiria (dario argento`s movie) thats to name but two.<br /><br />this is an ok werewolf film it should be in people`s collection if they like werewolf movies maybe i`ll get the original at some point maybe. i have only one complaint and that is Phil Buckman - (Chris) should have been in it more than he was but apart from that the movie was fine.<br /><br />rating for this movie 8/10 an ok werewolf movie not the worst one out there.<br /><br />',\n",
       " 'positive')"
      ]
     },
     "execution_count": 11,
     "metadata": {},
     "output_type": "execute_result"
    }
   ],
   "source": [
    "from random import shuffle \n",
    "shuffle(doc)\n",
    "doc[1]"
   ]
  },
  {
   "cell_type": "code",
   "execution_count": 12,
   "metadata": {
    "id": "WpihEQDo_3hU"
   },
   "outputs": [],
   "source": [
    "from nltk import word_tokenize\n",
    "all_words=[]\n",
    "for review in reviews:\n",
    "  all_words+=word_tokenize(review)"
   ]
  },
  {
   "cell_type": "code",
   "execution_count": 13,
   "metadata": {
    "colab": {
     "base_uri": "https://localhost:8080/"
    },
    "id": "QCgS6Ko66UPU",
    "outputId": "d0d9cf76-56cb-45df-d5e6-d37513fbe120",
    "scrolled": true
   },
   "outputs": [
    {
     "data": {
      "text/plain": [
       "['one',\n",
       " 'of',\n",
       " 'the',\n",
       " 'other',\n",
       " 'reviewers',\n",
       " 'has',\n",
       " 'mentioned',\n",
       " 'that',\n",
       " 'after',\n",
       " 'watching']"
      ]
     },
     "execution_count": 13,
     "metadata": {},
     "output_type": "execute_result"
    }
   ],
   "source": [
    "all_words=[word.lower() for word in all_words]\n",
    "all_words[:10]"
   ]
  },
  {
   "cell_type": "code",
   "execution_count": 14,
   "metadata": {
    "colab": {
     "base_uri": "https://localhost:8080/"
    },
    "id": "-f8vkAsxAaRp",
    "outputId": "45094954-a923-4047-da00-a849316e6a1c"
   },
   "outputs": [
    {
     "name": "stdout",
     "output_type": "stream",
     "text": [
      "<FreqDist with 49078 samples and 1398320 outcomes>\n"
     ]
    }
   ],
   "source": [
    "from nltk import FreqDist\n",
    "words_freq=FreqDist(all_words)\n",
    "print(words_freq)"
   ]
  },
  {
   "cell_type": "code",
   "execution_count": 15,
   "metadata": {
    "colab": {
     "base_uri": "https://localhost:8080/"
    },
    "id": "QZzczEa9BG2h",
    "outputId": "19931571-cfd8-444a-cda0-ad8c6b079f4c"
   },
   "outputs": [
    {
     "name": "stdout",
     "output_type": "stream",
     "text": [
      "[('the', 66813), (',', 54263), ('.', 46252), ('a', 32276), ('and', 32241), ('of', 28926), ('to', 26556), ('is', 21637), ('/', 20669), ('>', 20632)]\n"
     ]
    }
   ],
   "source": [
    "print(words_freq.most_common(10))"
   ]
  },
  {
   "cell_type": "code",
   "execution_count": 16,
   "metadata": {
    "id": "RqSM6mbCBQVE"
   },
   "outputs": [],
   "source": [
    "import string\n",
    "from nltk.corpus import stopwords"
   ]
  },
  {
   "cell_type": "code",
   "execution_count": 17,
   "metadata": {
    "colab": {
     "base_uri": "https://localhost:8080/"
    },
    "id": "ybsbhpouBNQi",
    "outputId": "d150c7b2-a649-47ce-803e-6ad656374ebe"
   },
   "outputs": [
    {
     "name": "stdout",
     "output_type": "stream",
     "text": [
      "['one', 'reviewers', 'mentioned', 'watching', '1', 'oz', 'episode', \"'ll\", 'hooked', 'right', 'exactly', 'happened', 'me.', 'first', 'thing', 'struck', 'oz', 'brutality', 'unflinching', 'scenes', 'violence', 'set', 'right', 'word', 'go', 'trust', 'show', 'faint', 'hearted', 'timid', 'show', 'pulls', 'punches', 'regards', 'drugs', 'sex', 'violence', 'hardcore', 'classic', 'use', 'word.', 'called', 'oz', 'nickname', 'given', 'oswald', 'maximum', 'security', 'state', 'penitentary', 'focuses', 'mainly', 'emerald', 'city', 'experimental', 'section', 'prison', 'cells', 'glass', 'fronts', 'face', 'inwards', 'privacy', 'high', 'agenda', 'em', 'city', 'home', 'many', 'aryans', 'muslims', 'gangstas', 'latinos', 'christians', 'italians', 'irish', '....', 'scuffles', 'death', 'stares', 'dodgy', 'dealings', 'shady', 'agreements', 'never', 'far', 'away.', 'would', 'say', 'main', 'appeal', 'show', 'due', 'fact', 'goes', 'shows', 'would', 'dare', 'forget', 'pretty']\n"
     ]
    }
   ],
   "source": [
    "stopword=stopwords.words(\"english\")\n",
    "list1=['br',\"'s\",\"n't\",\"''\",'``','...','..']\n",
    "list2=string.punctuation\n",
    "all_words2=[]\n",
    "for word in all_words:\n",
    "    if word not in stopword and word not in list2 and word not in list1:\n",
    "        all_words2.append(word)\n",
    "print (all_words2[:100])"
   ]
  },
  {
   "cell_type": "code",
   "execution_count": 18,
   "metadata": {
    "colab": {
     "base_uri": "https://localhost:8080/"
    },
    "id": "4lzoXVi-CxFO",
    "outputId": "3cb4a305-a46b-4346-cfef-fd6fd3e92828"
   },
   "outputs": [
    {
     "name": "stdout",
     "output_type": "stream",
     "text": [
      "<FreqDist with 48899 samples and 598346 outcomes>\n",
      "[('movie', 8629), ('film', 7630), ('one', 5125), ('like', 3910), ('good', 2911), ('would', 2706), ('even', 2492), ('see', 2287), ('story', 2287), ('time', 2286)]\n"
     ]
    }
   ],
   "source": [
    "words_freq2 = FreqDist(all_words2)\n",
    "print (words_freq2)\n",
    "print (words_freq2.most_common(10))"
   ]
  },
  {
   "cell_type": "code",
   "execution_count": 19,
   "metadata": {
    "colab": {
     "base_uri": "https://localhost:8080/"
    },
    "id": "1L3UHSdSDPv3",
    "outputId": "411f35f6-3f59-4c51-f471-06a95675bdfc"
   },
   "outputs": [
    {
     "name": "stdout",
     "output_type": "stream",
     "text": [
      "48899\n"
     ]
    }
   ],
   "source": [
    "print (len(words_freq2))"
   ]
  },
  {
   "cell_type": "code",
   "execution_count": 20,
   "metadata": {
    "colab": {
     "base_uri": "https://localhost:8080/"
    },
    "id": "XTGAVPfPDVAN",
    "outputId": "0a428d73-dfda-406c-9fb9-2e5f3ae24792"
   },
   "outputs": [
    {
     "name": "stdout",
     "output_type": "stream",
     "text": [
      "['movie', 'film', 'one', 'like', 'good', 'would', 'even', 'see', 'story', 'time']\n"
     ]
    }
   ],
   "source": [
    "most_common_words=words_freq2.most_common(500)\n",
    "word_features= [item[0] for item in most_common_words]\n",
    "print (word_features[:10])"
   ]
  },
  {
   "cell_type": "code",
   "execution_count": 21,
   "metadata": {
    "id": "e528qe0UDiLF"
   },
   "outputs": [],
   "source": [
    "def features_function(document):\n",
    "    doc_words = doc\n",
    "    print(doc_words)\n",
    "    features = {}\n",
    "    for word in word_features:\n",
    "        features['contains(%s)' % word] = (word in doc_words)\n",
    "    return(features)"
   ]
  },
  {
   "cell_type": "code",
   "execution_count": 22,
   "metadata": {
    "colab": {
     "base_uri": "https://localhost:8080/"
    },
    "id": "1roIlzJOD6Xh",
    "outputId": "c1256ae8-2101-442a-dfe4-0b0a677545f0"
   },
   "outputs": [
    {
     "name": "stdout",
     "output_type": "stream",
     "text": [
      "Probably my all-time favorite movie, a story of selflessness, sacrifice and dedication to a noble cause, but it's not preachy or boring. It just never gets old, despite my having seen it some 15 or more times in the last 25 years. Paul Lukas' performance brings tears to my eyes, and Bette Davis, in one of her very few truly sympathetic roles, is a delight. The kids are, as grandma says, more like \"dressed-up midgets\" than children, but that only makes them more fun to watch. And the mother's slow awakening to what's happening in the world and under her own roof is believable and startling. If I had a dozen thumbs, they'd all be \"up\" for this movie.\n"
     ]
    }
   ],
   "source": [
    "review_file=str(reviews[5])\n",
    "print(review_file)"
   ]
  },
  {
   "cell_type": "code",
   "execution_count": 23,
   "metadata": {
    "colab": {
     "base_uri": "https://localhost:8080/"
    },
    "id": "q0_PduNKEPm_",
    "outputId": "72474495-a4df-4a63-b29d-d31c514282cb"
   },
   "outputs": [
    {
     "name": "stderr",
     "output_type": "stream",
     "text": [
      "IOPub data rate exceeded.\n",
      "The notebook server will temporarily stop sending output\n",
      "to the client in order to avoid crashing it.\n",
      "To change this limit, set the config variable\n",
      "`--NotebookApp.iopub_data_rate_limit`.\n",
      "\n",
      "Current values:\n",
      "NotebookApp.iopub_data_rate_limit=1000000.0 (bytes/sec)\n",
      "NotebookApp.rate_limit_window=3.0 (secs)\n",
      "\n"
     ]
    },
    {
     "name": "stdout",
     "output_type": "stream",
     "text": [
      "{'contains(movie)': False, 'contains(film)': False, 'contains(one)': False, 'contains(like)': False, 'contains(good)': False, 'contains(would)': False, 'contains(even)': False, 'contains(see)': False, 'contains(story)': False, 'contains(time)': False, 'contains(really)': False, 'contains(well)': False, 'contains(much)': False, 'contains(get)': False, 'contains(bad)': False, 'contains(could)': False, 'contains(people)': False, 'contains(first)': False, 'contains(also)': False, 'contains(great)': False, 'contains(make)': False, 'contains(way)': False, 'contains(made)': False, 'contains(movies)': False, 'contains(characters)': False, 'contains(watch)': False, 'contains(think)': False, 'contains(character)': False, 'contains(never)': False, 'contains(little)': False, 'contains(films)': False, 'contains(many)': False, 'contains(seen)': False, 'contains(plot)': False, 'contains(two)': False, 'contains(acting)': False, 'contains(know)': False, 'contains(best)': False, 'contains(love)': False, 'contains(show)': False, 'contains(ever)': False, 'contains(life)': False, 'contains(scene)': False, 'contains(better)': False, 'contains(say)': False, 'contains(still)': False, 'contains(man)': False, 'contains(--)': False, 'contains(something)': False, \"contains('ve)\": False, 'contains(go)': False, 'contains(end)': False, 'contains(scenes)': False, 'contains(real)': False, \"contains('m)\": False, 'contains(watching)': False, 'contains(back)': False, 'contains(though)': False, 'contains(thing)': False, 'contains(actors)': False, 'contains(new)': False, 'contains(going)': False, 'contains(years)': False, 'contains(nothing)': False, 'contains(work)': False, 'contains(look)': False, 'contains(makes)': False, 'contains(funny)': False, 'contains(actually)': False, 'contains(another)': False, 'contains(lot)': False, 'contains(director)': False, 'contains(every)': False, 'contains(find)': False, 'contains(old)': False, 'contains(pretty)': False, 'contains(part)': False, 'contains(us)': False, \"contains('re)\": False, 'contains(want)': False, 'contains(got)': False, 'contains(quite)': False, 'contains(around)': False, 'contains(things)': False, 'contains(ca)': False, 'contains(young)': False, 'contains(enough)': False, 'contains(however)': False, 'contains(horror)': False, 'contains(world)': False, 'contains(take)': False, 'contains(must)': False, 'contains(seems)': False, 'contains(cast)': False, 'contains(big)': False, 'contains(may)': False, 'contains(fact)': False, 'contains(come)': False, 'contains(least)': False, 'contains(without)': False, 'contains(thought)': False, 'contains(gets)': False, 'contains(long)': False, 'contains(almost)': False, 'contains(give)': False, 'contains(might)': False, 'contains(always)': False, 'contains(original)': False, 'contains(family)': False, \"contains('ll)\": False, 'contains(whole)': False, 'contains(anything)': False, 'contains(right)': False, 'contains(saw)': False, 'contains(feel)': False, 'contains(minutes)': False, 'contains(script)': False, 'contains(since)': False, 'contains(probably)': False, 'contains(comedy)': False, 'contains(done)': False, 'contains(bit)': False, 'contains(times)': False, 'contains(point)': False, 'contains(interesting)': False, 'contains(action)': False, 'contains(series)': False, 'contains(role)': False, 'contains(far)': False, 'contains(guy)': False, 'contains(performance)': False, 'contains(yet)': False, 'contains(music)': False, 'contains(last)': False, 'contains(girl)': False, 'contains(woman)': False, 'contains(played)': False, 'contains(away)': False, 'contains(rather)': False, 'contains(tv)': False, 'contains(anyone)': False, 'contains(although)': False, 'contains(making)': False, 'contains(worst)': False, 'contains(comes)': False, 'contains(goes)': False, 'contains(found)': False, 'contains(kind)': False, 'contains(sure)': False, 'contains(fun)': False, 'contains(everything)': False, 'contains(especially)': False, 'contains(looks)': False, 'contains(dvd)': False, 'contains(watched)': False, 'contains(takes)': False, 'contains(course)': False, 'contains(put)': False, 'contains(trying)': False, 'contains(three)': False, 'contains(book)': False, 'contains(day)': False, 'contains(maybe)': False, 'contains(main)': False, 'contains(screen)': False, 'contains(hard)': False, \"contains('d)\": False, 'contains(american)': False, 'contains(someone)': False, 'contains(shows)': False, 'contains(believe)': False, 'contains(set)': False, 'contains(effects)': False, 'contains(john)': False, 'contains(idea)': False, 'contains(audience)': False, 'contains(ending)': False, 'contains(let)': False, 'contains(true)': False, 'contains(money)': False, 'contains(reason)': False, 'contains(place)': False, 'contains(said)': False, 'contains(play)': False, 'contains(worth)': False, 'contains(different)': False, 'contains(looking)': False, 'contains(night)': False, 'contains(sense)': False, 'contains(actor)': False, 'contains(instead)': False, 'contains(job)': False, 'contains(10)': False, 'contains(special)': False, 'contains(beautiful)': False, 'contains(2)': False, 'contains(simply)': False, 'contains(everyone)': False, 'contains(excellent)': False, 'contains(shot)': False, 'contains(seem)': False, 'contains(left)': False, 'contains(plays)': False, 'contains(else)': False, 'contains(version)': False, 'contains(together)': False, 'contains(along)': False, 'contains(completely)': False, 'contains(war)': False, 'contains(high)': False, 'contains(poor)': False, 'contains(house)': False, 'contains(mind)': False, 'contains(read)': False, 'contains(help)': False, 'contains(fan)': False, 'contains(nice)': False, 'contains(father)': False, 'contains(seeing)': False, 'contains(star)': False, 'contains(used)': False, 'contains(second)': False, 'contains(need)': False, 'contains(home)': False, 'contains(men)': False, 'contains(hollywood)': False, 'contains(short)': False, 'contains(line)': False, 'contains(kids)': False, 'contains(given)': False, 'contains(stupid)': False, 'contains(use)': False, 'contains(try)': False, 'contains(boring)': False, 'contains(later)': False, 'contains(tell)': False, 'contains(performances)': False, 'contains(production)': False, 'contains(year)': False, 'contains(wife)': False, 'contains(awful)': False, 'contains(recommend)': False, 'contains(death)': False, 'contains(wonderful)': False, 'contains(women)': False, 'contains(less)': False, 'contains(rest)': False, 'contains(next)': False, 'contains(absolutely)': False, 'contains(black)': False, 'contains(classic)': False, 'contains(piece)': False, 'contains(human)': False, 'contains(remember)': False, 'contains(dead)': False, 'contains(couple)': False, 'contains(truly)': False, 'contains(mother)': False, 'contains(understand)': False, 'contains(terrible)': False, 'contains(small)': False, 'contains(getting)': False, 'contains(school)': False, 'contains(either)': False, 'contains(video)': False, 'contains(often)': False, 'contains(enjoy)': False, 'contains(camera)': False, 'contains(came)': False, 'contains(name)': False, 'contains(mean)': False, 'contains(keep)': False, 'contains(half)': False, 'contains(finally)': False, 'contains(person)': False, 'contains(based)': False, 'contains(others)': False, 'contains(wrong)': False, 'contains(playing)': False, 'contains(game)': False, 'contains(full)': False, 'contains(friends)': False, 'contains(perhaps)': False, 'contains(face)': False, 'contains(title)': False, 'contains(worse)': False, 'contains(dialogue)': False, 'contains(stars)': False, 'contains(gives)': False, 'contains(budget)': False, 'contains(totally)': False, 'contains(evil)': False, 'contains(waste)': False, 'contains(friend)': False, 'contains(start)': False, 'contains(children)': False, 'contains(written)': False, 'contains(lost)': False, 'contains(episode)': False, 'contains(yes)': False, 'contains(perfect)': False, 'contains(several)': False, 'contains(sex)': False, 'contains(entire)': False, 'contains(early)': False, 'contains(moments)': False, 'contains(liked)': False, 'contains(supposed)': False, 'contains(3)': False, 'contains(definitely)': False, 'contains(loved)': False, 'contains(become)': False, 'contains(overall)': False, 'contains(oh)': False, 'contains(case)': False, 'contains(days)': False, 'contains(sort)': False, 'contains(despite)': False, 'contains(lines)': False, 'contains(beginning)': False, 'contains(picture)': False, 'contains(went)': False, 'contains(laugh)': False, 'contains(top)': False, 'contains(guys)': False, 'contains(fans)': False, 'contains(certainly)': False, 'contains(head)': False, 'contains(felt)': False, 'contains(wants)': False, 'contains(humor)': False, 'contains(god)': False, 'contains(killer)': False, 'contains(able)': False, 'contains(hope)': False, 'contains(already)': False, 'contains(sound)': False, 'contains(\\x96)': False, 'contains(direction)': False, 'contains(entertaining)': False, 'contains(boy)': False, 'contains(cinema)': False, 'contains(throughout)': False, 'contains(called)': False, 'contains(style)': False, 'contains(final)': False, 'contains(turn)': False, 'contains(seemed)': False, 'contains(becomes)': False, 'contains(town)': False, 'contains(favorite)': False, 'contains(drama)': False, 'contains(problem)': False, 'contains(dark)': False, 'contains(lives)': False, 'contains(writing)': False, 'contains(fine)': False, 'contains(past)': False, 'contains(stuff)': False, 'contains(soon)': False, 'contains(history)': False, 'contains(low)': False, 'contains(wanted)': False, 'contains(care)': False, 'contains(girls)': False, 'contains(live)': False, 'contains(matter)': False, 'contains(quality)': False, 'contains(lead)': False, 'contains(today)': False, 'contains(example)': False, 'contains(brilliant)': False, 'contains(thinking)': False, 'contains(viewer)': False, 'contains(white)': False, 'contains(son)': False, 'contains(lack)': False, 'contains(michael)': False, 'contains(behind)': False, 'contains(gave)': False, 'contains(parts)': False, 'contains(tries)': False, 'contains(extremely)': False, 'contains(enjoyed)': False, 'contains(works)': False, 'contains(....)': False, 'contains(eyes)': False, 'contains(turns)': False, 'contains(1)': False, 'contains(coming)': False, 'contains(leave)': False, 'contains(heart)': False, 'contains(save)': False, 'contains(unfortunately)': False, 'contains(act)': False, 'contains(kill)': False, 'contains(amazing)': False, 'contains(guess)': False, 'contains(sometimes)': False, 'contains(horrible)': False, 'contains(run)': False, 'contains(fight)': False, 'contains(stop)': False, 'contains(flick)': False, 'contains(actress)': False, 'contains(attempt)': False, 'contains(except)': False, 'contains(killed)': False, 'contains(highly)': False, 'contains(group)': False, 'contains(english)': False, 'contains(expect)': False, 'contains(police)': False, 'contains(feeling)': False, 'contains(murder)': False, 'contains(obviously)': False, 'contains(city)': False, 'contains(side)': False, 'contains(complete)': False, 'contains(car)': False, 'contains(type)': False, 'contains(involved)': False, 'contains(robert)': False, 'contains(told)': False, 'contains(slow)': False, 'contains(took)': False, 'contains(heard)': False, 'contains(directed)': False, 'contains(late)': False, 'contains(hell)': False, 'contains(seriously)': False, 'contains(child)': False, 'contains(decent)': False, 'contains(wo)': False, 'contains(number)': False, 'contains(looked)': False, 'contains(relationship)': False, 'contains(violence)': False, 'contains(word)': False, 'contains(roles)': False, 'contains(known)': False, 'contains(upon)': False, 'contains(art)': False, 'contains(experience)': False, 'contains(serious)': False, 'contains(happens)': False, 'contains(david)': False, 'contains(hour)': False, 'contains(shown)': False, 'contains(moment)': False, 'contains(kid)': False, 'contains(starts)': False, 'contains(chance)': False, 'contains(age)': False, 'contains(body)': False, 'contains(saying)': False, 'contains(huge)': False, 'contains(brother)': False, 'contains(possible)': False, 'contains(usual)': False, 'contains(opening)': False, 'contains(cut)': False, 'contains(genre)': False, 'contains(reality)': False, 'contains(ridiculous)': False, 'contains(cool)': False, 'contains(etc)': False, 'contains(across)': False, 'contains(happen)': False, 'contains(close)': False, 'contains(talent)': False, 'contains(gore)': False, 'contains(bring)': False, 'contains(annoying)': False, 'contains(major)': False, 'contains(husband)': False, 'contains(says)': False, 'contains(interest)': False, 'contains(obvious)': False, 'contains(released)': False, 'contains(rock)': False, 'contains(usually)': False, 'contains(simple)': False, 'contains(british)': False, 'contains(particularly)': False, 'contains(stories)': False, 'contains(score)': False, 'contains(order)': False, 'contains(daughter)': False, 'contains(5)': False, 'contains(hero)': False, 'contains(problems)': False, 'contains(started)': False, 'contains(television)': False, 'contains(including)': False, 'contains(james)': False, 'contains(ok)': False, 'contains(song)': False, 'contains(view)': False, 'contains(ago)': False}\n"
     ]
    }
   ],
   "source": [
    "print(features_function(str(review_file)))"
   ]
  },
  {
   "cell_type": "code",
   "execution_count": 24,
   "metadata": {
    "colab": {
     "base_uri": "https://localhost:8080/"
    },
    "id": "F7PlB1vkENXq",
    "outputId": "9e4d1fb5-4331-41e0-a12d-fa2bd8cef9f1",
    "scrolled": true
   },
   "outputs": [
    {
     "name": "stderr",
     "output_type": "stream",
     "text": [
      "IOPub data rate exceeded.\n",
      "The notebook server will temporarily stop sending output\n",
      "to the client in order to avoid crashing it.\n",
      "To change this limit, set the config variable\n",
      "`--NotebookApp.iopub_data_rate_limit`.\n",
      "\n",
      "Current values:\n",
      "NotebookApp.iopub_data_rate_limit=1000000.0 (bytes/sec)\n",
      "NotebookApp.rate_limit_window=3.0 (secs)\n",
      "\n"
     ]
    }
   ],
   "source": [
    "feature_set= [(features_function(d),category) for (d,category) in doc]"
   ]
  },
  {
   "cell_type": "code",
   "execution_count": 25,
   "metadata": {
    "colab": {
     "base_uri": "https://localhost:8080/"
    },
    "id": "7ygvSnswFKti",
    "outputId": "5c75d309-2d33-490b-b471-d31b462f870d"
   },
   "outputs": [
    {
     "name": "stdout",
     "output_type": "stream",
     "text": [
      "5000\n"
     ]
    }
   ],
   "source": [
    "print(len(feature_set))"
   ]
  },
  {
   "cell_type": "code",
   "execution_count": 26,
   "metadata": {
    "colab": {
     "base_uri": "https://localhost:8080/"
    },
    "id": "q9F3nXARFAMd",
    "outputId": "134bf0ad-3c8c-4857-e46f-707b70af5908"
   },
   "outputs": [
    {
     "name": "stdout",
     "output_type": "stream",
     "text": [
      "({'contains(movie)': False, 'contains(film)': False, 'contains(one)': False, 'contains(like)': False, 'contains(good)': False, 'contains(would)': False, 'contains(even)': False, 'contains(see)': False, 'contains(story)': False, 'contains(time)': False, 'contains(really)': False, 'contains(well)': False, 'contains(much)': False, 'contains(get)': False, 'contains(bad)': False, 'contains(could)': False, 'contains(people)': False, 'contains(first)': False, 'contains(also)': False, 'contains(great)': False, 'contains(make)': False, 'contains(way)': False, 'contains(made)': False, 'contains(movies)': False, 'contains(characters)': False, 'contains(watch)': False, 'contains(think)': False, 'contains(character)': False, 'contains(never)': False, 'contains(little)': False, 'contains(films)': False, 'contains(many)': False, 'contains(seen)': False, 'contains(plot)': False, 'contains(two)': False, 'contains(acting)': False, 'contains(know)': False, 'contains(best)': False, 'contains(love)': False, 'contains(show)': False, 'contains(ever)': False, 'contains(life)': False, 'contains(scene)': False, 'contains(better)': False, 'contains(say)': False, 'contains(still)': False, 'contains(man)': False, 'contains(--)': False, 'contains(something)': False, \"contains('ve)\": False, 'contains(go)': False, 'contains(end)': False, 'contains(scenes)': False, 'contains(real)': False, \"contains('m)\": False, 'contains(watching)': False, 'contains(back)': False, 'contains(though)': False, 'contains(thing)': False, 'contains(actors)': False, 'contains(new)': False, 'contains(going)': False, 'contains(years)': False, 'contains(nothing)': False, 'contains(work)': False, 'contains(look)': False, 'contains(makes)': False, 'contains(funny)': False, 'contains(actually)': False, 'contains(another)': False, 'contains(lot)': False, 'contains(director)': False, 'contains(every)': False, 'contains(find)': False, 'contains(old)': False, 'contains(pretty)': False, 'contains(part)': False, 'contains(us)': False, \"contains('re)\": False, 'contains(want)': False, 'contains(got)': False, 'contains(quite)': False, 'contains(around)': False, 'contains(things)': False, 'contains(ca)': False, 'contains(young)': False, 'contains(enough)': False, 'contains(however)': False, 'contains(horror)': False, 'contains(world)': False, 'contains(take)': False, 'contains(must)': False, 'contains(seems)': False, 'contains(cast)': False, 'contains(big)': False, 'contains(may)': False, 'contains(fact)': False, 'contains(come)': False, 'contains(least)': False, 'contains(without)': False, 'contains(thought)': False, 'contains(gets)': False, 'contains(long)': False, 'contains(almost)': False, 'contains(give)': False, 'contains(might)': False, 'contains(always)': False, 'contains(original)': False, 'contains(family)': False, \"contains('ll)\": False, 'contains(whole)': False, 'contains(anything)': False, 'contains(right)': False, 'contains(saw)': False, 'contains(feel)': False, 'contains(minutes)': False, 'contains(script)': False, 'contains(since)': False, 'contains(probably)': False, 'contains(comedy)': False, 'contains(done)': False, 'contains(bit)': False, 'contains(times)': False, 'contains(point)': False, 'contains(interesting)': False, 'contains(action)': False, 'contains(series)': False, 'contains(role)': False, 'contains(far)': False, 'contains(guy)': False, 'contains(performance)': False, 'contains(yet)': False, 'contains(music)': False, 'contains(last)': False, 'contains(girl)': False, 'contains(woman)': False, 'contains(played)': False, 'contains(away)': False, 'contains(rather)': False, 'contains(tv)': False, 'contains(anyone)': False, 'contains(although)': False, 'contains(making)': False, 'contains(worst)': False, 'contains(comes)': False, 'contains(goes)': False, 'contains(found)': False, 'contains(kind)': False, 'contains(sure)': False, 'contains(fun)': False, 'contains(everything)': False, 'contains(especially)': False, 'contains(looks)': False, 'contains(dvd)': False, 'contains(watched)': False, 'contains(takes)': False, 'contains(course)': False, 'contains(put)': False, 'contains(trying)': False, 'contains(three)': False, 'contains(book)': False, 'contains(day)': False, 'contains(maybe)': False, 'contains(main)': False, 'contains(screen)': False, 'contains(hard)': False, \"contains('d)\": False, 'contains(american)': False, 'contains(someone)': False, 'contains(shows)': False, 'contains(believe)': False, 'contains(set)': False, 'contains(effects)': False, 'contains(john)': False, 'contains(idea)': False, 'contains(audience)': False, 'contains(ending)': False, 'contains(let)': False, 'contains(true)': False, 'contains(money)': False, 'contains(reason)': False, 'contains(place)': False, 'contains(said)': False, 'contains(play)': False, 'contains(worth)': False, 'contains(different)': False, 'contains(looking)': False, 'contains(night)': False, 'contains(sense)': False, 'contains(actor)': False, 'contains(instead)': False, 'contains(job)': False, 'contains(10)': False, 'contains(special)': False, 'contains(beautiful)': False, 'contains(2)': False, 'contains(simply)': False, 'contains(everyone)': False, 'contains(excellent)': False, 'contains(shot)': False, 'contains(seem)': False, 'contains(left)': False, 'contains(plays)': False, 'contains(else)': False, 'contains(version)': False, 'contains(together)': False, 'contains(along)': False, 'contains(completely)': False, 'contains(war)': False, 'contains(high)': False, 'contains(poor)': False, 'contains(house)': False, 'contains(mind)': False, 'contains(read)': False, 'contains(help)': False, 'contains(fan)': False, 'contains(nice)': False, 'contains(father)': False, 'contains(seeing)': False, 'contains(star)': False, 'contains(used)': False, 'contains(second)': False, 'contains(need)': False, 'contains(home)': False, 'contains(men)': False, 'contains(hollywood)': False, 'contains(short)': False, 'contains(line)': False, 'contains(kids)': False, 'contains(given)': False, 'contains(stupid)': False, 'contains(use)': False, 'contains(try)': False, 'contains(boring)': False, 'contains(later)': False, 'contains(tell)': False, 'contains(performances)': False, 'contains(production)': False, 'contains(year)': False, 'contains(wife)': False, 'contains(awful)': False, 'contains(recommend)': False, 'contains(death)': False, 'contains(wonderful)': False, 'contains(women)': False, 'contains(less)': False, 'contains(rest)': False, 'contains(next)': False, 'contains(absolutely)': False, 'contains(black)': False, 'contains(classic)': False, 'contains(piece)': False, 'contains(human)': False, 'contains(remember)': False, 'contains(dead)': False, 'contains(couple)': False, 'contains(truly)': False, 'contains(mother)': False, 'contains(understand)': False, 'contains(terrible)': False, 'contains(small)': False, 'contains(getting)': False, 'contains(school)': False, 'contains(either)': False, 'contains(video)': False, 'contains(often)': False, 'contains(enjoy)': False, 'contains(camera)': False, 'contains(came)': False, 'contains(name)': False, 'contains(mean)': False, 'contains(keep)': False, 'contains(half)': False, 'contains(finally)': False, 'contains(person)': False, 'contains(based)': False, 'contains(others)': False, 'contains(wrong)': False, 'contains(playing)': False, 'contains(game)': False, 'contains(full)': False, 'contains(friends)': False, 'contains(perhaps)': False, 'contains(face)': False, 'contains(title)': False, 'contains(worse)': False, 'contains(dialogue)': False, 'contains(stars)': False, 'contains(gives)': False, 'contains(budget)': False, 'contains(totally)': False, 'contains(evil)': False, 'contains(waste)': False, 'contains(friend)': False, 'contains(start)': False, 'contains(children)': False, 'contains(written)': False, 'contains(lost)': False, 'contains(episode)': False, 'contains(yes)': False, 'contains(perfect)': False, 'contains(several)': False, 'contains(sex)': False, 'contains(entire)': False, 'contains(early)': False, 'contains(moments)': False, 'contains(liked)': False, 'contains(supposed)': False, 'contains(3)': False, 'contains(definitely)': False, 'contains(loved)': False, 'contains(become)': False, 'contains(overall)': False, 'contains(oh)': False, 'contains(case)': False, 'contains(days)': False, 'contains(sort)': False, 'contains(despite)': False, 'contains(lines)': False, 'contains(beginning)': False, 'contains(picture)': False, 'contains(went)': False, 'contains(laugh)': False, 'contains(top)': False, 'contains(guys)': False, 'contains(fans)': False, 'contains(certainly)': False, 'contains(head)': False, 'contains(felt)': False, 'contains(wants)': False, 'contains(humor)': False, 'contains(god)': False, 'contains(killer)': False, 'contains(able)': False, 'contains(hope)': False, 'contains(already)': False, 'contains(sound)': False, 'contains(\\x96)': False, 'contains(direction)': False, 'contains(entertaining)': False, 'contains(boy)': False, 'contains(cinema)': False, 'contains(throughout)': False, 'contains(called)': False, 'contains(style)': False, 'contains(final)': False, 'contains(turn)': False, 'contains(seemed)': False, 'contains(becomes)': False, 'contains(town)': False, 'contains(favorite)': False, 'contains(drama)': False, 'contains(problem)': False, 'contains(dark)': False, 'contains(lives)': False, 'contains(writing)': False, 'contains(fine)': False, 'contains(past)': False, 'contains(stuff)': False, 'contains(soon)': False, 'contains(history)': False, 'contains(low)': False, 'contains(wanted)': False, 'contains(care)': False, 'contains(girls)': False, 'contains(live)': False, 'contains(matter)': False, 'contains(quality)': False, 'contains(lead)': False, 'contains(today)': False, 'contains(example)': False, 'contains(brilliant)': False, 'contains(thinking)': False, 'contains(viewer)': False, 'contains(white)': False, 'contains(son)': False, 'contains(lack)': False, 'contains(michael)': False, 'contains(behind)': False, 'contains(gave)': False, 'contains(parts)': False, 'contains(tries)': False, 'contains(extremely)': False, 'contains(enjoyed)': False, 'contains(works)': False, 'contains(....)': False, 'contains(eyes)': False, 'contains(turns)': False, 'contains(1)': False, 'contains(coming)': False, 'contains(leave)': False, 'contains(heart)': False, 'contains(save)': False, 'contains(unfortunately)': False, 'contains(act)': False, 'contains(kill)': False, 'contains(amazing)': False, 'contains(guess)': False, 'contains(sometimes)': False, 'contains(horrible)': False, 'contains(run)': False, 'contains(fight)': False, 'contains(stop)': False, 'contains(flick)': False, 'contains(actress)': False, 'contains(attempt)': False, 'contains(except)': False, 'contains(killed)': False, 'contains(highly)': False, 'contains(group)': False, 'contains(english)': False, 'contains(expect)': False, 'contains(police)': False, 'contains(feeling)': False, 'contains(murder)': False, 'contains(obviously)': False, 'contains(city)': False, 'contains(side)': False, 'contains(complete)': False, 'contains(car)': False, 'contains(type)': False, 'contains(involved)': False, 'contains(robert)': False, 'contains(told)': False, 'contains(slow)': False, 'contains(took)': False, 'contains(heard)': False, 'contains(directed)': False, 'contains(late)': False, 'contains(hell)': False, 'contains(seriously)': False, 'contains(child)': False, 'contains(decent)': False, 'contains(wo)': False, 'contains(number)': False, 'contains(looked)': False, 'contains(relationship)': False, 'contains(violence)': False, 'contains(word)': False, 'contains(roles)': False, 'contains(known)': False, 'contains(upon)': False, 'contains(art)': False, 'contains(experience)': False, 'contains(serious)': False, 'contains(happens)': False, 'contains(david)': False, 'contains(hour)': False, 'contains(shown)': False, 'contains(moment)': False, 'contains(kid)': False, 'contains(starts)': False, 'contains(chance)': False, 'contains(age)': False, 'contains(body)': False, 'contains(saying)': False, 'contains(huge)': False, 'contains(brother)': False, 'contains(possible)': False, 'contains(usual)': False, 'contains(opening)': False, 'contains(cut)': False, 'contains(genre)': False, 'contains(reality)': False, 'contains(ridiculous)': False, 'contains(cool)': False, 'contains(etc)': False, 'contains(across)': False, 'contains(happen)': False, 'contains(close)': False, 'contains(talent)': False, 'contains(gore)': False, 'contains(bring)': False, 'contains(annoying)': False, 'contains(major)': False, 'contains(husband)': False, 'contains(says)': False, 'contains(interest)': False, 'contains(obvious)': False, 'contains(released)': False, 'contains(rock)': False, 'contains(usually)': False, 'contains(simple)': False, 'contains(british)': False, 'contains(particularly)': False, 'contains(stories)': False, 'contains(score)': False, 'contains(order)': False, 'contains(daughter)': False, 'contains(5)': False, 'contains(hero)': False, 'contains(problems)': False, 'contains(started)': False, 'contains(television)': False, 'contains(including)': False, 'contains(james)': False, 'contains(ok)': False, 'contains(song)': False, 'contains(view)': False, 'contains(ago)': False}, 'positive')\n"
     ]
    }
   ],
   "source": [
    "print(feature_set[0])"
   ]
  },
  {
   "cell_type": "code",
   "execution_count": 27,
   "metadata": {
    "colab": {
     "base_uri": "https://localhost:8080/"
    },
    "id": "5kVuDV8rFRDV",
    "outputId": "c73b8130-15dc-4294-c5fc-c4d2370e457a"
   },
   "outputs": [
    {
     "name": "stdout",
     "output_type": "stream",
     "text": [
      "2500\n",
      "2500\n"
     ]
    }
   ],
   "source": [
    "test_set= feature_set[:2500]\n",
    "train_set= feature_set[2500:] \n",
    "print(len(train_set))\n",
    "print(len(test_set))"
   ]
  },
  {
   "cell_type": "code",
   "execution_count": 28,
   "metadata": {
    "id": "ex1_SbfLFYcv"
   },
   "outputs": [],
   "source": [
    "from nltk import NaiveBayesClassifier\n",
    "nb= NaiveBayesClassifier.train(train_set)"
   ]
  },
  {
   "cell_type": "code",
   "execution_count": 29,
   "metadata": {
    "colab": {
     "base_uri": "https://localhost:8080/"
    },
    "id": "hVhUAhc4FZ44",
    "outputId": "40125c7e-c0c7-41fe-b384-f5868ce1c77e"
   },
   "outputs": [
    {
     "name": "stdout",
     "output_type": "stream",
     "text": [
      "0.5096\n"
     ]
    }
   ],
   "source": [
    "from nltk import classify \n",
    "accuracy=classify.accuracy(nb, test_set)\n",
    "print(accuracy) "
   ]
  },
  {
   "cell_type": "code",
   "execution_count": null,
   "metadata": {},
   "outputs": [],
   "source": []
  },
  {
   "cell_type": "code",
   "execution_count": null,
   "metadata": {},
   "outputs": [],
   "source": []
  }
 ],
 "metadata": {
  "colab": {
   "name": "NLP_Assignment_2_AishwaryaBande.ipynb",
   "provenance": []
  },
  "kernelspec": {
   "display_name": "Python 3",
   "language": "python",
   "name": "python3"
  },
  "language_info": {
   "codemirror_mode": {
    "name": "ipython",
    "version": 3
   },
   "file_extension": ".py",
   "mimetype": "text/x-python",
   "name": "python",
   "nbconvert_exporter": "python",
   "pygments_lexer": "ipython3",
   "version": "3.8.5"
  }
 },
 "nbformat": 4,
 "nbformat_minor": 1
}
