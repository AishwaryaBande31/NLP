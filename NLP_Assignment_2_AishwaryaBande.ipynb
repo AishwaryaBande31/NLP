{
  "nbformat": 4,
  "nbformat_minor": 0,
  "metadata": {
    "colab": {
      "name": "NLP_Assignment_2_AishwaryaBande.ipynb",
      "provenance": []
    },
    "kernelspec": {
      "display_name": "Python 3",
      "name": "python3"
    }
  },
  "cells": [
    {
      "cell_type": "code",
      "metadata": {
        "id": "PyuVmOggzZZz"
      },
      "source": [
        "import pandas as pd\r\n",
        "import numpy as np\r\n",
        "import re"
      ],
      "execution_count": 1,
      "outputs": []
    },
    {
      "cell_type": "code",
      "metadata": {
        "id": "TPEQmxnwziFO"
      },
      "source": [
        "import nltk"
      ],
      "execution_count": 2,
      "outputs": []
    },
    {
      "cell_type": "code",
      "metadata": {
        "colab": {
          "base_uri": "https://localhost:8080/"
        },
        "id": "pY3RkRJPzmjL",
        "outputId": "ea2add40-0c4d-4bab-a152-9d876f2625d3"
      },
      "source": [
        "nltk.download('all')"
      ],
      "execution_count": 3,
      "outputs": [
        {
          "output_type": "stream",
          "text": [
            "[nltk_data] Downloading collection 'all'\n",
            "[nltk_data]    | \n",
            "[nltk_data]    | Downloading package abc to /root/nltk_data...\n",
            "[nltk_data]    |   Unzipping corpora/abc.zip.\n",
            "[nltk_data]    | Downloading package alpino to /root/nltk_data...\n",
            "[nltk_data]    |   Unzipping corpora/alpino.zip.\n",
            "[nltk_data]    | Downloading package biocreative_ppi to\n",
            "[nltk_data]    |     /root/nltk_data...\n",
            "[nltk_data]    |   Unzipping corpora/biocreative_ppi.zip.\n",
            "[nltk_data]    | Downloading package brown to /root/nltk_data...\n",
            "[nltk_data]    |   Unzipping corpora/brown.zip.\n",
            "[nltk_data]    | Downloading package brown_tei to /root/nltk_data...\n",
            "[nltk_data]    |   Unzipping corpora/brown_tei.zip.\n",
            "[nltk_data]    | Downloading package cess_cat to /root/nltk_data...\n",
            "[nltk_data]    |   Unzipping corpora/cess_cat.zip.\n",
            "[nltk_data]    | Downloading package cess_esp to /root/nltk_data...\n",
            "[nltk_data]    |   Unzipping corpora/cess_esp.zip.\n",
            "[nltk_data]    | Downloading package chat80 to /root/nltk_data...\n",
            "[nltk_data]    |   Unzipping corpora/chat80.zip.\n",
            "[nltk_data]    | Downloading package city_database to\n",
            "[nltk_data]    |     /root/nltk_data...\n",
            "[nltk_data]    |   Unzipping corpora/city_database.zip.\n",
            "[nltk_data]    | Downloading package cmudict to /root/nltk_data...\n",
            "[nltk_data]    |   Unzipping corpora/cmudict.zip.\n",
            "[nltk_data]    | Downloading package comparative_sentences to\n",
            "[nltk_data]    |     /root/nltk_data...\n",
            "[nltk_data]    |   Unzipping corpora/comparative_sentences.zip.\n",
            "[nltk_data]    | Downloading package comtrans to /root/nltk_data...\n",
            "[nltk_data]    | Downloading package conll2000 to /root/nltk_data...\n",
            "[nltk_data]    |   Unzipping corpora/conll2000.zip.\n",
            "[nltk_data]    | Downloading package conll2002 to /root/nltk_data...\n",
            "[nltk_data]    |   Unzipping corpora/conll2002.zip.\n",
            "[nltk_data]    | Downloading package conll2007 to /root/nltk_data...\n",
            "[nltk_data]    | Downloading package crubadan to /root/nltk_data...\n",
            "[nltk_data]    |   Unzipping corpora/crubadan.zip.\n",
            "[nltk_data]    | Downloading package dependency_treebank to\n",
            "[nltk_data]    |     /root/nltk_data...\n",
            "[nltk_data]    |   Unzipping corpora/dependency_treebank.zip.\n",
            "[nltk_data]    | Downloading package dolch to /root/nltk_data...\n",
            "[nltk_data]    |   Unzipping corpora/dolch.zip.\n",
            "[nltk_data]    | Downloading package europarl_raw to\n",
            "[nltk_data]    |     /root/nltk_data...\n",
            "[nltk_data]    |   Unzipping corpora/europarl_raw.zip.\n",
            "[nltk_data]    | Downloading package floresta to /root/nltk_data...\n",
            "[nltk_data]    |   Unzipping corpora/floresta.zip.\n",
            "[nltk_data]    | Downloading package framenet_v15 to\n",
            "[nltk_data]    |     /root/nltk_data...\n",
            "[nltk_data]    |   Unzipping corpora/framenet_v15.zip.\n",
            "[nltk_data]    | Downloading package framenet_v17 to\n",
            "[nltk_data]    |     /root/nltk_data...\n",
            "[nltk_data]    |   Unzipping corpora/framenet_v17.zip.\n",
            "[nltk_data]    | Downloading package gazetteers to /root/nltk_data...\n",
            "[nltk_data]    |   Unzipping corpora/gazetteers.zip.\n",
            "[nltk_data]    | Downloading package genesis to /root/nltk_data...\n",
            "[nltk_data]    |   Unzipping corpora/genesis.zip.\n",
            "[nltk_data]    | Downloading package gutenberg to /root/nltk_data...\n",
            "[nltk_data]    |   Unzipping corpora/gutenberg.zip.\n",
            "[nltk_data]    | Downloading package ieer to /root/nltk_data...\n",
            "[nltk_data]    |   Unzipping corpora/ieer.zip.\n",
            "[nltk_data]    | Downloading package inaugural to /root/nltk_data...\n",
            "[nltk_data]    |   Unzipping corpora/inaugural.zip.\n",
            "[nltk_data]    | Downloading package indian to /root/nltk_data...\n",
            "[nltk_data]    |   Unzipping corpora/indian.zip.\n",
            "[nltk_data]    | Downloading package jeita to /root/nltk_data...\n",
            "[nltk_data]    | Downloading package kimmo to /root/nltk_data...\n",
            "[nltk_data]    |   Unzipping corpora/kimmo.zip.\n",
            "[nltk_data]    | Downloading package knbc to /root/nltk_data...\n",
            "[nltk_data]    | Downloading package lin_thesaurus to\n",
            "[nltk_data]    |     /root/nltk_data...\n",
            "[nltk_data]    |   Unzipping corpora/lin_thesaurus.zip.\n",
            "[nltk_data]    | Downloading package mac_morpho to /root/nltk_data...\n",
            "[nltk_data]    |   Unzipping corpora/mac_morpho.zip.\n",
            "[nltk_data]    | Downloading package machado to /root/nltk_data...\n",
            "[nltk_data]    | Downloading package masc_tagged to /root/nltk_data...\n",
            "[nltk_data]    | Downloading package moses_sample to\n",
            "[nltk_data]    |     /root/nltk_data...\n",
            "[nltk_data]    |   Unzipping models/moses_sample.zip.\n",
            "[nltk_data]    | Downloading package movie_reviews to\n",
            "[nltk_data]    |     /root/nltk_data...\n",
            "[nltk_data]    |   Unzipping corpora/movie_reviews.zip.\n",
            "[nltk_data]    | Downloading package names to /root/nltk_data...\n",
            "[nltk_data]    |   Unzipping corpora/names.zip.\n",
            "[nltk_data]    | Downloading package nombank.1.0 to /root/nltk_data...\n",
            "[nltk_data]    | Downloading package nps_chat to /root/nltk_data...\n",
            "[nltk_data]    |   Unzipping corpora/nps_chat.zip.\n",
            "[nltk_data]    | Downloading package omw to /root/nltk_data...\n",
            "[nltk_data]    |   Unzipping corpora/omw.zip.\n",
            "[nltk_data]    | Downloading package opinion_lexicon to\n",
            "[nltk_data]    |     /root/nltk_data...\n",
            "[nltk_data]    |   Unzipping corpora/opinion_lexicon.zip.\n",
            "[nltk_data]    | Downloading package paradigms to /root/nltk_data...\n",
            "[nltk_data]    |   Unzipping corpora/paradigms.zip.\n",
            "[nltk_data]    | Downloading package pil to /root/nltk_data...\n",
            "[nltk_data]    |   Unzipping corpora/pil.zip.\n",
            "[nltk_data]    | Downloading package pl196x to /root/nltk_data...\n",
            "[nltk_data]    |   Unzipping corpora/pl196x.zip.\n",
            "[nltk_data]    | Downloading package ppattach to /root/nltk_data...\n",
            "[nltk_data]    |   Unzipping corpora/ppattach.zip.\n",
            "[nltk_data]    | Downloading package problem_reports to\n",
            "[nltk_data]    |     /root/nltk_data...\n",
            "[nltk_data]    |   Unzipping corpora/problem_reports.zip.\n",
            "[nltk_data]    | Downloading package propbank to /root/nltk_data...\n",
            "[nltk_data]    | Downloading package ptb to /root/nltk_data...\n",
            "[nltk_data]    |   Unzipping corpora/ptb.zip.\n",
            "[nltk_data]    | Downloading package product_reviews_1 to\n",
            "[nltk_data]    |     /root/nltk_data...\n",
            "[nltk_data]    |   Unzipping corpora/product_reviews_1.zip.\n",
            "[nltk_data]    | Downloading package product_reviews_2 to\n",
            "[nltk_data]    |     /root/nltk_data...\n",
            "[nltk_data]    |   Unzipping corpora/product_reviews_2.zip.\n",
            "[nltk_data]    | Downloading package pros_cons to /root/nltk_data...\n",
            "[nltk_data]    |   Unzipping corpora/pros_cons.zip.\n",
            "[nltk_data]    | Downloading package qc to /root/nltk_data...\n",
            "[nltk_data]    |   Unzipping corpora/qc.zip.\n",
            "[nltk_data]    | Downloading package reuters to /root/nltk_data...\n",
            "[nltk_data]    | Downloading package rte to /root/nltk_data...\n",
            "[nltk_data]    |   Unzipping corpora/rte.zip.\n",
            "[nltk_data]    | Downloading package semcor to /root/nltk_data...\n",
            "[nltk_data]    | Downloading package senseval to /root/nltk_data...\n",
            "[nltk_data]    |   Unzipping corpora/senseval.zip.\n",
            "[nltk_data]    | Downloading package sentiwordnet to\n",
            "[nltk_data]    |     /root/nltk_data...\n",
            "[nltk_data]    |   Unzipping corpora/sentiwordnet.zip.\n",
            "[nltk_data]    | Downloading package sentence_polarity to\n",
            "[nltk_data]    |     /root/nltk_data...\n",
            "[nltk_data]    |   Unzipping corpora/sentence_polarity.zip.\n",
            "[nltk_data]    | Downloading package shakespeare to /root/nltk_data...\n",
            "[nltk_data]    |   Unzipping corpora/shakespeare.zip.\n",
            "[nltk_data]    | Downloading package sinica_treebank to\n",
            "[nltk_data]    |     /root/nltk_data...\n",
            "[nltk_data]    |   Unzipping corpora/sinica_treebank.zip.\n",
            "[nltk_data]    | Downloading package smultron to /root/nltk_data...\n",
            "[nltk_data]    |   Unzipping corpora/smultron.zip.\n",
            "[nltk_data]    | Downloading package state_union to /root/nltk_data...\n",
            "[nltk_data]    |   Unzipping corpora/state_union.zip.\n",
            "[nltk_data]    | Downloading package stopwords to /root/nltk_data...\n",
            "[nltk_data]    |   Unzipping corpora/stopwords.zip.\n",
            "[nltk_data]    | Downloading package subjectivity to\n",
            "[nltk_data]    |     /root/nltk_data...\n",
            "[nltk_data]    |   Unzipping corpora/subjectivity.zip.\n",
            "[nltk_data]    | Downloading package swadesh to /root/nltk_data...\n",
            "[nltk_data]    |   Unzipping corpora/swadesh.zip.\n",
            "[nltk_data]    | Downloading package switchboard to /root/nltk_data...\n",
            "[nltk_data]    |   Unzipping corpora/switchboard.zip.\n",
            "[nltk_data]    | Downloading package timit to /root/nltk_data...\n",
            "[nltk_data]    |   Unzipping corpora/timit.zip.\n",
            "[nltk_data]    | Downloading package toolbox to /root/nltk_data...\n",
            "[nltk_data]    |   Unzipping corpora/toolbox.zip.\n",
            "[nltk_data]    | Downloading package treebank to /root/nltk_data...\n",
            "[nltk_data]    |   Unzipping corpora/treebank.zip.\n",
            "[nltk_data]    | Downloading package twitter_samples to\n",
            "[nltk_data]    |     /root/nltk_data...\n",
            "[nltk_data]    |   Unzipping corpora/twitter_samples.zip.\n",
            "[nltk_data]    | Downloading package udhr to /root/nltk_data...\n",
            "[nltk_data]    |   Unzipping corpora/udhr.zip.\n",
            "[nltk_data]    | Downloading package udhr2 to /root/nltk_data...\n",
            "[nltk_data]    |   Unzipping corpora/udhr2.zip.\n",
            "[nltk_data]    | Downloading package unicode_samples to\n",
            "[nltk_data]    |     /root/nltk_data...\n",
            "[nltk_data]    |   Unzipping corpora/unicode_samples.zip.\n",
            "[nltk_data]    | Downloading package universal_treebanks_v20 to\n",
            "[nltk_data]    |     /root/nltk_data...\n",
            "[nltk_data]    | Downloading package verbnet to /root/nltk_data...\n",
            "[nltk_data]    |   Unzipping corpora/verbnet.zip.\n",
            "[nltk_data]    | Downloading package verbnet3 to /root/nltk_data...\n",
            "[nltk_data]    |   Unzipping corpora/verbnet3.zip.\n",
            "[nltk_data]    | Downloading package webtext to /root/nltk_data...\n",
            "[nltk_data]    |   Unzipping corpora/webtext.zip.\n",
            "[nltk_data]    | Downloading package wordnet to /root/nltk_data...\n",
            "[nltk_data]    |   Unzipping corpora/wordnet.zip.\n",
            "[nltk_data]    | Downloading package wordnet_ic to /root/nltk_data...\n",
            "[nltk_data]    |   Unzipping corpora/wordnet_ic.zip.\n",
            "[nltk_data]    | Downloading package words to /root/nltk_data...\n",
            "[nltk_data]    |   Unzipping corpora/words.zip.\n",
            "[nltk_data]    | Downloading package ycoe to /root/nltk_data...\n",
            "[nltk_data]    |   Unzipping corpora/ycoe.zip.\n",
            "[nltk_data]    | Downloading package rslp to /root/nltk_data...\n",
            "[nltk_data]    |   Unzipping stemmers/rslp.zip.\n",
            "[nltk_data]    | Downloading package maxent_treebank_pos_tagger to\n",
            "[nltk_data]    |     /root/nltk_data...\n",
            "[nltk_data]    |   Unzipping taggers/maxent_treebank_pos_tagger.zip.\n",
            "[nltk_data]    | Downloading package universal_tagset to\n",
            "[nltk_data]    |     /root/nltk_data...\n",
            "[nltk_data]    |   Unzipping taggers/universal_tagset.zip.\n",
            "[nltk_data]    | Downloading package maxent_ne_chunker to\n",
            "[nltk_data]    |     /root/nltk_data...\n",
            "[nltk_data]    |   Unzipping chunkers/maxent_ne_chunker.zip.\n",
            "[nltk_data]    | Downloading package punkt to /root/nltk_data...\n",
            "[nltk_data]    |   Unzipping tokenizers/punkt.zip.\n",
            "[nltk_data]    | Downloading package book_grammars to\n",
            "[nltk_data]    |     /root/nltk_data...\n",
            "[nltk_data]    |   Unzipping grammars/book_grammars.zip.\n",
            "[nltk_data]    | Downloading package sample_grammars to\n",
            "[nltk_data]    |     /root/nltk_data...\n",
            "[nltk_data]    |   Unzipping grammars/sample_grammars.zip.\n",
            "[nltk_data]    | Downloading package spanish_grammars to\n",
            "[nltk_data]    |     /root/nltk_data...\n",
            "[nltk_data]    |   Unzipping grammars/spanish_grammars.zip.\n",
            "[nltk_data]    | Downloading package basque_grammars to\n",
            "[nltk_data]    |     /root/nltk_data...\n",
            "[nltk_data]    |   Unzipping grammars/basque_grammars.zip.\n",
            "[nltk_data]    | Downloading package large_grammars to\n",
            "[nltk_data]    |     /root/nltk_data...\n",
            "[nltk_data]    |   Unzipping grammars/large_grammars.zip.\n",
            "[nltk_data]    | Downloading package tagsets to /root/nltk_data...\n",
            "[nltk_data]    |   Unzipping help/tagsets.zip.\n",
            "[nltk_data]    | Downloading package snowball_data to\n",
            "[nltk_data]    |     /root/nltk_data...\n",
            "[nltk_data]    | Downloading package bllip_wsj_no_aux to\n",
            "[nltk_data]    |     /root/nltk_data...\n",
            "[nltk_data]    |   Unzipping models/bllip_wsj_no_aux.zip.\n",
            "[nltk_data]    | Downloading package word2vec_sample to\n",
            "[nltk_data]    |     /root/nltk_data...\n",
            "[nltk_data]    |   Unzipping models/word2vec_sample.zip.\n",
            "[nltk_data]    | Downloading package panlex_swadesh to\n",
            "[nltk_data]    |     /root/nltk_data...\n",
            "[nltk_data]    | Downloading package mte_teip5 to /root/nltk_data...\n",
            "[nltk_data]    |   Unzipping corpora/mte_teip5.zip.\n",
            "[nltk_data]    | Downloading package averaged_perceptron_tagger to\n",
            "[nltk_data]    |     /root/nltk_data...\n",
            "[nltk_data]    |   Unzipping taggers/averaged_perceptron_tagger.zip.\n",
            "[nltk_data]    | Downloading package averaged_perceptron_tagger_ru to\n",
            "[nltk_data]    |     /root/nltk_data...\n",
            "[nltk_data]    |   Unzipping\n",
            "[nltk_data]    |       taggers/averaged_perceptron_tagger_ru.zip.\n",
            "[nltk_data]    | Downloading package perluniprops to\n",
            "[nltk_data]    |     /root/nltk_data...\n",
            "[nltk_data]    |   Unzipping misc/perluniprops.zip.\n",
            "[nltk_data]    | Downloading package nonbreaking_prefixes to\n",
            "[nltk_data]    |     /root/nltk_data...\n",
            "[nltk_data]    |   Unzipping corpora/nonbreaking_prefixes.zip.\n",
            "[nltk_data]    | Downloading package vader_lexicon to\n",
            "[nltk_data]    |     /root/nltk_data...\n",
            "[nltk_data]    | Downloading package porter_test to /root/nltk_data...\n",
            "[nltk_data]    |   Unzipping stemmers/porter_test.zip.\n",
            "[nltk_data]    | Downloading package wmt15_eval to /root/nltk_data...\n",
            "[nltk_data]    |   Unzipping models/wmt15_eval.zip.\n",
            "[nltk_data]    | Downloading package mwa_ppdb to /root/nltk_data...\n",
            "[nltk_data]    |   Unzipping misc/mwa_ppdb.zip.\n",
            "[nltk_data]    | \n",
            "[nltk_data]  Done downloading collection all\n"
          ],
          "name": "stdout"
        },
        {
          "output_type": "execute_result",
          "data": {
            "text/plain": [
              "True"
            ]
          },
          "metadata": {
            "tags": []
          },
          "execution_count": 3
        }
      ]
    },
    {
      "cell_type": "code",
      "metadata": {
        "colab": {
          "resources": {
            "http://localhost:8080/nbextensions/google.colab/files.js": {
              "data": "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",
              "ok": true,
              "headers": [
                [
                  "content-type",
                  "application/javascript"
                ]
              ],
              "status": 200,
              "status_text": ""
            }
          },
          "base_uri": "https://localhost:8080/",
          "height": 72
        },
        "id": "oYMrSZK-0-oy",
        "outputId": "9379296e-b12b-430c-ad30-83a9041c0d24"
      },
      "source": [
        "from google.colab import files\r\n",
        "files.upload()"
      ],
      "execution_count": 7,
      "outputs": [
        {
          "output_type": "display_data",
          "data": {
            "text/html": [
              "\n",
              "     <input type=\"file\" id=\"files-adbe22aa-933c-44a3-b1d1-d271ff9de836\" name=\"files[]\" multiple disabled\n",
              "        style=\"border:none\" />\n",
              "     <output id=\"result-adbe22aa-933c-44a3-b1d1-d271ff9de836\">\n",
              "      Upload widget is only available when the cell has been executed in the\n",
              "      current browser session. Please rerun this cell to enable.\n",
              "      </output>\n",
              "      <script src=\"/nbextensions/google.colab/files.js\"></script> "
            ],
            "text/plain": [
              "<IPython.core.display.HTML object>"
            ]
          },
          "metadata": {
            "tags": []
          }
        },
        {
          "output_type": "stream",
          "text": [
            "Saving IMDB Dataset.csv to IMDB Dataset.csv\n"
          ],
          "name": "stdout"
        }
      ]
    },
    {
      "cell_type": "code",
      "metadata": {
        "colab": {
          "base_uri": "https://localhost:8080/",
          "height": 200
        },
        "id": "X0E_VngG1ALc",
        "outputId": "9e02d409-7033-4fa2-a95b-e9b61402f6c3"
      },
      "source": [
        "df=pd.read_csv(\"IMDB Dataset.csv\")\r\n",
        "df.head(5)"
      ],
      "execution_count": 37,
      "outputs": [
        {
          "output_type": "execute_result",
          "data": {
            "text/html": [
              "<div>\n",
              "<style scoped>\n",
              "    .dataframe tbody tr th:only-of-type {\n",
              "        vertical-align: middle;\n",
              "    }\n",
              "\n",
              "    .dataframe tbody tr th {\n",
              "        vertical-align: top;\n",
              "    }\n",
              "\n",
              "    .dataframe thead th {\n",
              "        text-align: right;\n",
              "    }\n",
              "</style>\n",
              "<table border=\"1\" class=\"dataframe\">\n",
              "  <thead>\n",
              "    <tr style=\"text-align: right;\">\n",
              "      <th></th>\n",
              "      <th>review</th>\n",
              "      <th>sentiment</th>\n",
              "    </tr>\n",
              "  </thead>\n",
              "  <tbody>\n",
              "    <tr>\n",
              "      <th>0</th>\n",
              "      <td>One of the other reviewers has mentioned that ...</td>\n",
              "      <td>positive</td>\n",
              "    </tr>\n",
              "    <tr>\n",
              "      <th>1</th>\n",
              "      <td>A wonderful little production. &lt;br /&gt;&lt;br /&gt;The...</td>\n",
              "      <td>positive</td>\n",
              "    </tr>\n",
              "    <tr>\n",
              "      <th>2</th>\n",
              "      <td>I thought this was a wonderful way to spend ti...</td>\n",
              "      <td>positive</td>\n",
              "    </tr>\n",
              "    <tr>\n",
              "      <th>3</th>\n",
              "      <td>Basically there's a family where a little boy ...</td>\n",
              "      <td>negative</td>\n",
              "    </tr>\n",
              "    <tr>\n",
              "      <th>4</th>\n",
              "      <td>Petter Mattei's \"Love in the Time of Money\" is...</td>\n",
              "      <td>positive</td>\n",
              "    </tr>\n",
              "  </tbody>\n",
              "</table>\n",
              "</div>"
            ],
            "text/plain": [
              "                                              review sentiment\n",
              "0  One of the other reviewers has mentioned that ...  positive\n",
              "1  A wonderful little production. <br /><br />The...  positive\n",
              "2  I thought this was a wonderful way to spend ti...  positive\n",
              "3  Basically there's a family where a little boy ...  negative\n",
              "4  Petter Mattei's \"Love in the Time of Money\" is...  positive"
            ]
          },
          "metadata": {
            "tags": []
          },
          "execution_count": 37
        }
      ]
    },
    {
      "cell_type": "code",
      "metadata": {
        "colab": {
          "base_uri": "https://localhost:8080/"
        },
        "id": "Of7OylkQ1znf",
        "outputId": "603f45e6-ffbb-43a4-c3be-ff686e4c292f"
      },
      "source": [
        "df.isnull().sum()"
      ],
      "execution_count": 38,
      "outputs": [
        {
          "output_type": "execute_result",
          "data": {
            "text/plain": [
              "review       0\n",
              "sentiment    0\n",
              "dtype: int64"
            ]
          },
          "metadata": {
            "tags": []
          },
          "execution_count": 38
        }
      ]
    },
    {
      "cell_type": "code",
      "metadata": {
        "id": "UoqA60rF17pC"
      },
      "source": [
        "reviews =df.review.values\r\n",
        "sentiment=df.sentiment.values "
      ],
      "execution_count": 64,
      "outputs": []
    },
    {
      "cell_type": "code",
      "metadata": {
        "id": "bmzeJLcd5woJ"
      },
      "source": [
        "doc=[]\r\n",
        "for i,j in enumerate(reviews):\r\n",
        "  doc.append((j,sentiment[i]))"
      ],
      "execution_count": 65,
      "outputs": []
    },
    {
      "cell_type": "code",
      "metadata": {
        "colab": {
          "base_uri": "https://localhost:8080/"
        },
        "id": "KRBNba2x6DJz",
        "outputId": "17ebc8b5-8382-4200-c063-18e131a0afce"
      },
      "source": [
        "doc[1]"
      ],
      "execution_count": 67,
      "outputs": [
        {
          "output_type": "execute_result",
          "data": {
            "text/plain": [
              "('A wonderful little production. <br /><br />The filming technique is very unassuming- very old-time-BBC fashion and gives a comforting, and sometimes discomforting, sense of realism to the entire piece. <br /><br />The actors are extremely well chosen- Michael Sheen not only \"has got all the polari\" but he has all the voices down pat too! You can truly see the seamless editing guided by the references to Williams\\' diary entries, not only is it well worth the watching but it is a terrificly written and performed piece. A masterful production about one of the great master\\'s of comedy and his life. <br /><br />The realism really comes home with the little things: the fantasy of the guard which, rather than use the traditional \\'dream\\' techniques remains solid then disappears. It plays on our knowledge and our senses, particularly with the scenes concerning Orton and Halliwell and the sets (particularly of their flat with Halliwell\\'s murals decorating every surface) are terribly well done.',\n",
              " 'positive')"
            ]
          },
          "metadata": {
            "tags": []
          },
          "execution_count": 67
        }
      ]
    },
    {
      "cell_type": "code",
      "metadata": {
        "colab": {
          "base_uri": "https://localhost:8080/"
        },
        "id": "maGGH2lH6IAj",
        "outputId": "9be0b0ec-9d93-44fe-f3eb-3e9b5896c57b"
      },
      "source": [
        "from random import shuffle \r\n",
        "shuffle(doc)\r\n",
        "doc[1]"
      ],
      "execution_count": 68,
      "outputs": [
        {
          "output_type": "execute_result",
          "data": {
            "text/plain": [
              "('Nikolai Gogol\\'s story \"Viy\" has been filmed again and released to home video in the US via Faith Films.<br /><br />The original story concerns a priest who has to watch over the body of a witch with only his faith to protect him. Greatly expanded and set in America, though clearly filmed in Russia (the houses,clothing and furnishing are all wrong despite the English signs), this is an odd film that doesn\\'t really work.Part of it is the weird setting that tries very hard to be backwoods America but clearly isn\\'t.There are also some weird, intentionally oblique moments as the main character being a reporter at the start and a priest a short time later. I\\'m not sure why they did that, even after watching the making of piece on the DVD) The other problem is the dubbing which is beyond awful. Its done in such away that everyone speaks when their lips are not on camera- or if they are the voices don\\'t even remotely match the lip flaps. I don\\'t know if its Faith Films fault or that of the producers who made the film hoping to dump into the West (revealed in the making of piece).<br /><br />The film isn\\'t very good. As I\\'ve said it has all sorts of technical issues that just make this an odd ball curio. Despite some really good looking horror images the film never works as a horror film. As film to engender faith its much too confused in this retelling to amount to make anyone feel anyone closer to god.<br /><br />Given the choice I\\'d give it a pass, even at a bargain bin price. My advice would be to find the 1960\\'s version of the tale called Viy which will bring both some shivers and some understanding about a belief in god.',\n",
              " 'negative')"
            ]
          },
          "metadata": {
            "tags": []
          },
          "execution_count": 68
        }
      ]
    },
    {
      "cell_type": "code",
      "metadata": {
        "id": "WpihEQDo_3hU"
      },
      "source": [
        "from nltk import word_tokenize\r\n",
        "all_words=[]\r\n",
        "for review in reviews:\r\n",
        "  all_words+=word_tokenize(review)"
      ],
      "execution_count": 69,
      "outputs": []
    },
    {
      "cell_type": "code",
      "metadata": {
        "colab": {
          "base_uri": "https://localhost:8080/"
        },
        "id": "QCgS6Ko66UPU",
        "outputId": "674ed096-3033-43ea-e6c8-d4a940126f23"
      },
      "source": [
        "all_words=[word.lower() for word in all_words]\r\n",
        "all_words[:10]"
      ],
      "execution_count": 70,
      "outputs": [
        {
          "output_type": "execute_result",
          "data": {
            "text/plain": [
              "['one',\n",
              " 'of',\n",
              " 'the',\n",
              " 'other',\n",
              " 'reviewers',\n",
              " 'has',\n",
              " 'mentioned',\n",
              " 'that',\n",
              " 'after',\n",
              " 'watching']"
            ]
          },
          "metadata": {
            "tags": []
          },
          "execution_count": 70
        }
      ]
    },
    {
      "cell_type": "code",
      "metadata": {
        "colab": {
          "base_uri": "https://localhost:8080/"
        },
        "id": "-f8vkAsxAaRp",
        "outputId": "e0ec9f24-32e3-45ac-9b77-b6e498591c48"
      },
      "source": [
        "from nltk import FreqDist\r\n",
        "words_freq=FreqDist(all_words)\r\n",
        "print(words_freq)"
      ],
      "execution_count": 72,
      "outputs": [
        {
          "output_type": "stream",
          "text": [
            "<FreqDist with 168531 samples and 13956873 outcomes>\n"
          ],
          "name": "stdout"
        }
      ]
    },
    {
      "cell_type": "code",
      "metadata": {
        "colab": {
          "base_uri": "https://localhost:8080/"
        },
        "id": "QZzczEa9BG2h",
        "outputId": "718d66cb-8e04-481b-effd-ccea67117b82"
      },
      "source": [
        "print(words_freq.most_common(10))"
      ],
      "execution_count": 73,
      "outputs": [
        {
          "output_type": "stream",
          "text": [
            "[('the', 663897), (',', 544030), ('.', 469238), ('and', 322795), ('a', 320993), ('of', 288510), ('to', 267009), ('is', 216830), ('/', 202421), ('>', 202250)]\n"
          ],
          "name": "stdout"
        }
      ]
    },
    {
      "cell_type": "code",
      "metadata": {
        "id": "RqSM6mbCBQVE"
      },
      "source": [
        "import string\r\n",
        "from nltk.corpus import stopwords"
      ],
      "execution_count": 80,
      "outputs": []
    },
    {
      "cell_type": "code",
      "metadata": {
        "colab": {
          "base_uri": "https://localhost:8080/"
        },
        "id": "ybsbhpouBNQi",
        "outputId": "07f5a9bb-ccb9-439e-98c6-c947dd789f2e"
      },
      "source": [
        "stopword=stopwords.words(\"english\")\r\n",
        "list1=['br',\"'s\",\"n't\",\"''\",'``','...','..']\r\n",
        "list2=string.punctuation\r\n",
        "all_words2=[]\r\n",
        "for word in all_words:\r\n",
        "    if word not in stopword and word not in list2 and word not in list1:\r\n",
        "        all_words2.append(word)\r\n",
        "print (all_words2[:100])"
      ],
      "execution_count": 81,
      "outputs": [
        {
          "output_type": "stream",
          "text": [
            "['one', 'reviewers', 'mentioned', 'watching', '1', 'oz', 'episode', \"'ll\", 'hooked', 'right', 'exactly', 'happened', 'me.', 'first', 'thing', 'struck', 'oz', 'brutality', 'unflinching', 'scenes', 'violence', 'set', 'right', 'word', 'go', 'trust', 'show', 'faint', 'hearted', 'timid', 'show', 'pulls', 'punches', 'regards', 'drugs', 'sex', 'violence', 'hardcore', 'classic', 'use', 'word.', 'called', 'oz', 'nickname', 'given', 'oswald', 'maximum', 'security', 'state', 'penitentary', 'focuses', 'mainly', 'emerald', 'city', 'experimental', 'section', 'prison', 'cells', 'glass', 'fronts', 'face', 'inwards', 'privacy', 'high', 'agenda', 'em', 'city', 'home', 'many..aryans', 'muslims', 'gangstas', 'latinos', 'christians', 'italians', 'irish', '.so', 'scuffles', 'death', 'stares', 'dodgy', 'dealings', 'shady', 'agreements', 'never', 'far', 'away.', 'would', 'say', 'main', 'appeal', 'show', 'due', 'fact', 'goes', 'shows', 'would', 'dare', 'forget', 'pretty', 'pictures']\n"
          ],
          "name": "stdout"
        }
      ]
    },
    {
      "cell_type": "code",
      "metadata": {
        "colab": {
          "base_uri": "https://localhost:8080/"
        },
        "id": "4lzoXVi-CxFO",
        "outputId": "ca63f4c0-ba63-4a48-85c1-6e48b704284f"
      },
      "source": [
        "words_freq2 = FreqDist(all_words2)\r\n",
        "print (words_freq2)\r\n",
        "print (words_freq2.most_common(10))"
      ],
      "execution_count": 82,
      "outputs": [
        {
          "output_type": "stream",
          "text": [
            "<FreqDist with 168342 samples and 5979272 outcomes>\n",
            "[('movie', 84973), ('film', 76877), ('one', 51784), ('like', 39162), ('good', 28728), ('would', 26469), ('even', 24763), ('time', 23468), ('really', 22993), ('see', 22624)]\n"
          ],
          "name": "stdout"
        }
      ]
    },
    {
      "cell_type": "code",
      "metadata": {
        "colab": {
          "base_uri": "https://localhost:8080/"
        },
        "id": "GCVCtuStCDQ5",
        "outputId": "63ec7dcd-168b-4cc2-d1ab-5eb45a76882a"
      },
      "source": [
        "from nltk import FreqDist\r\n",
        "words_freq=FreqDist(all_words2)\r\n",
        "print(words_freq)"
      ],
      "execution_count": 76,
      "outputs": [
        {
          "output_type": "stream",
          "text": [
            "<FreqDist with 168342 samples and 5979272 outcomes>\n"
          ],
          "name": "stdout"
        }
      ]
    },
    {
      "cell_type": "code",
      "metadata": {
        "colab": {
          "base_uri": "https://localhost:8080/"
        },
        "id": "1L3UHSdSDPv3",
        "outputId": "3ae3a7e0-7ac0-4785-c9e5-2f1def218eee"
      },
      "source": [
        "print (len(words_freq2))"
      ],
      "execution_count": 84,
      "outputs": [
        {
          "output_type": "stream",
          "text": [
            "168342\n"
          ],
          "name": "stdout"
        }
      ]
    },
    {
      "cell_type": "code",
      "metadata": {
        "colab": {
          "base_uri": "https://localhost:8080/"
        },
        "id": "XTGAVPfPDVAN",
        "outputId": "1bbe1604-c402-480d-e827-d50c147fe036"
      },
      "source": [
        "most_common_words=words_freq2.most_common(1000)\r\n",
        "word_features= [item[0] for item in most_common_words]\r\n",
        "print (word_features[:10])"
      ],
      "execution_count": 86,
      "outputs": [
        {
          "output_type": "stream",
          "text": [
            "['movie', 'film', 'one', 'like', 'good', 'would', 'even', 'time', 'really', 'see']\n"
          ],
          "name": "stdout"
        }
      ]
    },
    {
      "cell_type": "code",
      "metadata": {
        "id": "e528qe0UDiLF"
      },
      "source": [
        "def features_function(document):\r\n",
        "    doc_words = doc\r\n",
        "    print(doc_words)\r\n",
        "    features = {}\r\n",
        "    for word in word_features:\r\n",
        "        features['contains(%s)' % word] = (word in doc_words)\r\n",
        "    return(features)"
      ],
      "execution_count": 87,
      "outputs": []
    },
    {
      "cell_type": "code",
      "metadata": {
        "colab": {
          "base_uri": "https://localhost:8080/"
        },
        "id": "1roIlzJOD6Xh",
        "outputId": "ec1fd7f9-cc3f-4282-edea-e3f80e853693"
      },
      "source": [
        "review_file=str(reviews[5])\r\n",
        "print(review_file)"
      ],
      "execution_count": 95,
      "outputs": [
        {
          "output_type": "stream",
          "text": [
            "A wonderful little production. <br /><br />The filming technique is very unassuming- very old-time-BBC fashion and gives a comforting, and sometimes discomforting, sense of realism to the entire piece. <br /><br />The actors are extremely well chosen- Michael Sheen not only \"has got all the polari\" but he has all the voices down pat too! You can truly see the seamless editing guided by the references to Williams' diary entries, not only is it well worth the watching but it is a terrificly written and performed piece. A masterful production about one of the great master's of comedy and his life. <br /><br />The realism really comes home with the little things: the fantasy of the guard which, rather than use the traditional 'dream' techniques remains solid then disappears. It plays on our knowledge and our senses, particularly with the scenes concerning Orton and Halliwell and the sets (particularly of their flat with Halliwell's murals decorating every surface) are terribly well done.\n"
          ],
          "name": "stdout"
        }
      ]
    },
    {
      "cell_type": "code",
      "metadata": {
        "colab": {
          "base_uri": "https://localhost:8080/"
        },
        "id": "q0_PduNKEPm_",
        "outputId": "904accaf-2434-455b-a8b7-f7b362714ab9"
      },
      "source": [
        "print(features_function(str(review_file)))"
      ],
      "execution_count": 96,
      "outputs": [
        {
          "output_type": "stream",
          "text": [
            "IOPub data rate exceeded.\n",
            "The notebook server will temporarily stop sending output\n",
            "to the client in order to avoid crashing it.\n",
            "To change this limit, set the config variable\n",
            "`--NotebookApp.iopub_data_rate_limit`.\n",
            "\n",
            "Current values:\n",
            "NotebookApp.iopub_data_rate_limit=1000000.0 (bytes/sec)\n",
            "NotebookApp.rate_limit_window=3.0 (secs)\n",
            "\n"
          ],
          "name": "stderr"
        },
        {
          "output_type": "stream",
          "text": [
            "{'contains(movie)': False, 'contains(film)': False, 'contains(one)': False, 'contains(like)': False, 'contains(good)': False, 'contains(would)': False, 'contains(even)': False, 'contains(time)': False, 'contains(really)': False, 'contains(see)': False, 'contains(story)': False, 'contains(much)': False, 'contains(well)': False, 'contains(could)': False, 'contains(get)': False, 'contains(people)': False, 'contains(great)': False, 'contains(also)': False, 'contains(bad)': False, 'contains(first)': False, 'contains(made)': False, 'contains(make)': False, 'contains(way)': False, 'contains(movies)': False, 'contains(think)': False, 'contains(characters)': False, 'contains(watch)': False, 'contains(character)': False, 'contains(films)': False, 'contains(many)': False, 'contains(seen)': False, 'contains(two)': False, 'contains(never)': False, 'contains(love)': False, 'contains(acting)': False, 'contains(plot)': False, 'contains(best)': False, 'contains(show)': False, 'contains(know)': False, 'contains(little)': False, 'contains(life)': False, 'contains(ever)': False, 'contains(better)': False, 'contains(man)': False, 'contains(still)': False, 'contains(say)': False, 'contains(scene)': False, 'contains(end)': False, 'contains(--)': False, 'contains(scenes)': False, \"contains('ve)\": False, 'contains(something)': False, 'contains(go)': False, \"contains('m)\": False, 'contains(back)': False, 'contains(watching)': False, 'contains(thing)': False, 'contains(real)': False, 'contains(actors)': False, 'contains(though)': False, 'contains(years)': False, 'contains(another)': False, 'contains(actually)': False, 'contains(funny)': False, 'contains(makes)': False, 'contains(nothing)': False, 'contains(find)': False, 'contains(look)': False, 'contains(work)': False, 'contains(director)': False, 'contains(going)': False, 'contains(lot)': False, 'contains(new)': False, 'contains(every)': False, 'contains(old)': False, 'contains(part)': False, \"contains('re)\": False, 'contains(want)': False, 'contains(us)': False, 'contains(quite)': False, 'contains(things)': False, 'contains(cast)': False, 'contains(got)': False, 'contains(pretty)': False, 'contains(world)': False, 'contains(ca)': False, 'contains(seems)': False, 'contains(around)': False, 'contains(young)': False, 'contains(take)': False, 'contains(however)': False, 'contains(fact)': False, 'contains(enough)': False, 'contains(give)': False, 'contains(thought)': False, 'contains(big)': False, 'contains(horror)': False, 'contains(may)': False, 'contains(without)': False, 'contains(long)': False, 'contains(right)': False, 'contains(saw)': False, 'contains(music)': False, 'contains(always)': False, 'contains(must)': False, 'contains(original)': False, 'contains(guy)': False, 'contains(gets)': False, 'contains(almost)': False, 'contains(come)': False, 'contains(times)': False, 'contains(series)': False, 'contains(comedy)': False, 'contains(role)': False, 'contains(whole)': False, 'contains(interesting)': False, 'contains(least)': False, 'contains(point)': False, 'contains(action)': False, 'contains(bit)': False, 'contains(done)': False, 'contains(might)': False, 'contains(far)': False, 'contains(script)': False, \"contains('ll)\": False, 'contains(minutes)': False, 'contains(since)': False, 'contains(family)': False, 'contains(anything)': False, 'contains(feel)': False, 'contains(last)': False, 'contains(probably)': False, 'contains(kind)': False, 'contains(performance)': False, 'contains(yet)': False, 'contains(anyone)': False, 'contains(away)': False, 'contains(rather)': False, 'contains(worst)': False, 'contains(girl)': False, 'contains(sure)': False, 'contains(woman)': False, 'contains(tv)': False, 'contains(fun)': False, 'contains(played)': False, 'contains(found)': False, 'contains(although)': False, 'contains(making)': False, 'contains(especially)': False, 'contains(believe)': False, 'contains(trying)': False, 'contains(course)': False, 'contains(day)': False, 'contains(comes)': False, 'contains(everything)': False, 'contains(goes)': False, 'contains(hard)': False, 'contains(dvd)': False, 'contains(put)': False, 'contains(maybe)': False, 'contains(shows)': False, 'contains(worth)': False, 'contains(let)': False, 'contains(looking)': False, 'contains(different)': False, 'contains(main)': False, 'contains(someone)': False, 'contains(ending)': False, 'contains(book)': False, 'contains(place)': False, \"contains('d)\": False, 'contains(looks)': False, 'contains(three)': False, 'contains(watched)': False, 'contains(reason)': False, 'contains(sense)': False, 'contains(2)': False, 'contains(screen)': False, 'contains(actor)': False, 'contains(everyone)': False, 'contains(set)': False, 'contains(effects)': False, 'contains(play)': False, 'contains(true)': False, 'contains(money)': False, 'contains(job)': False, 'contains(plays)': False, 'contains(together)': False, 'contains(said)': False, 'contains(10)': False, 'contains(instead)': False, 'contains(seem)': False, 'contains(takes)': False, 'contains(john)': False, 'contains(later)': False, 'contains(audience)': False, 'contains(american)': False, 'contains(beautiful)': False, 'contains(special)': False, 'contains(seeing)': False, 'contains(left)': False, 'contains(war)': False, 'contains(excellent)': False, 'contains(version)': False, 'contains(idea)': False, 'contains(night)': False, 'contains(shot)': False, 'contains(wife)': False, 'contains(black)': False, 'contains(else)': False, 'contains(simply)': False, 'contains(fan)': False, 'contains(high)': False, 'contains(completely)': False, 'contains(used)': False, 'contains(nice)': False, 'contains(house)': False, 'contains(poor)': False, 'contains(death)': False, 'contains(read)': False, 'contains(along)': False, 'contains(father)': False, 'contains(year)': False, 'contains(short)': False, 'contains(men)': False, 'contains(help)': False, 'contains(second)': False, 'contains(mind)': False, 'contains(kids)': False, 'contains(need)': False, 'contains(given)': False, 'contains(try)': False, 'contains(star)': False, 'contains(less)': False, 'contains(enjoy)': False, 'contains(use)': False, 'contains(home)': False, 'contains(hollywood)': False, 'contains(friends)': False, 'contains(boring)': False, 'contains(half)': False, 'contains(either)': False, 'contains(women)': False, 'contains(truly)': False, 'contains(classic)': False, 'contains(rest)': False, 'contains(dead)': False, 'contains(couple)': False, 'contains(performances)': False, 'contains(next)': False, 'contains(production)': False, 'contains(wrong)': False, 'contains(stupid)': False, 'contains(recommend)': False, 'contains(line)': False, 'contains(start)': False, 'contains(tell)': False, 'contains(remember)': False, 'contains(came)': False, 'contains(getting)': False, 'contains(school)': False, 'contains(perhaps)': False, 'contains(understand)': False, 'contains(full)': False, 'contains(terrible)': False, 'contains(camera)': False, 'contains(awful)': False, 'contains(keep)': False, 'contains(mean)': False, 'contains(moments)': False, 'contains(sex)': False, 'contains(wonderful)': False, 'contains(playing)': False, 'contains(person)': False, 'contains(name)': False, 'contains(video)': False, 'contains(definitely)': False, 'contains(episode)': False, 'contains(others)': False, 'contains(human)': False, 'contains(often)': False, 'contains(budget)': False, 'contains(gives)': False, 'contains(small)': False, 'contains(perfect)': False, 'contains(early)': False, 'contains(mother)': False, 'contains(top)': False, 'contains(children)': False, 'contains(went)': False, 'contains(dialogue)': False, 'contains(lines)': False, 'contains(finally)': False, 'contains(face)': False, 'contains(absolutely)': False, 'contains(piece)': False, 'contains(certainly)': False, 'contains(become)': False, 'contains(title)': False, 'contains(yes)': False, 'contains(stars)': False, 'contains(liked)': False, 'contains(case)': False, 'contains(head)': False, 'contains(sort)': False, 'contains(boy)': False, 'contains(loved)': False, 'contains(hope)': False, 'contains(friend)': False, 'contains(entire)': False, 'contains(felt)': False, 'contains(several)': False, 'contains(supposed)': False, 'contains(written)': False, 'contains(lost)': False, 'contains(live)': False, 'contains(worse)': False, 'contains(picture)': False, 'contains(overall)': False, 'contains(style)': False, 'contains(entertaining)': False, 'contains(3)': False, 'contains(guys)': False, 'contains(oh)': False, 'contains(laugh)': False, 'contains(problem)': False, 'contains(cinema)': False, 'contains(waste)': False, 'contains(sound)': False, 'contains(based)': False, 'contains(totally)': False, 'contains(beginning)': False, 'contains(wanted)': False, 'contains(seemed)': False, 'contains(despite)': False, 'contains(dark)': False, 'contains(fans)': False, 'contains(final)': False, 'contains(care)': False, 'contains(humor)': False, 'contains(becomes)': False, 'contains(example)': False, 'contains(already)': False, 'contains(direction)': False, 'contains(lead)': False, 'contains(guess)': False, 'contains(lives)': False, 'contains(game)': False, 'contains(evil)': False, 'contains(throughout)': False, 'contains(called)': False, 'contains(unfortunately)': False, 'contains(turn)': False, 'contains(drama)': False, 'contains(able)': False, 'contains(low)': False, 'contains(white)': False, 'contains(1)': False, 'contains(killer)': False, 'contains(wants)': False, 'contains(michael)': False, 'contains(fine)': False, 'contains(son)': False, 'contains(quality)': False, 'contains(\\x96)': False, 'contains(days)': False, 'contains(horrible)': False, 'contains(amazing)': False, 'contains(history)': False, 'contains(writing)': False, 'contains(tries)': False, 'contains(wo)': False, 'contains(works)': False, 'contains(kill)': False, 'contains(gave)': False, 'contains(turns)': False, 'contains(enjoyed)': False, 'contains(today)': False, 'contains(act)': False, 'contains(favorite)': False, 'contains(viewer)': False, 'contains(past)': False, 'contains(side)': False, 'contains(flick)': False, 'contains(town)': False, 'contains(parts)': False, 'contains(behind)': False, 'contains(matter)': False, 'contains(brilliant)': False, 'contains(car)': False, 'contains(expect)': False, 'contains(girls)': False, 'contains(obviously)': False, 'contains(eyes)': False, 'contains(kid)': False, 'contains(sometimes)': False, 'contains(stuff)': False, 'contains(run)': False, 'contains(child)': False, 'contains(starts)': False, 'contains(directed)': False, 'contains(city)': False, 'contains(killed)': False, 'contains(thinking)': False, 'contains(soon)': False, 'contains(says)': False, 'contains(group)': False, 'contains(decent)': False, 'contains(took)': False, 'contains(genre)': False, 'contains(actress)': False, 'contains(highly)': False, 'contains(god)': False, 'contains(heart)': False, 'contains(late)': False, 'contains(art)': False, 'contains(except)': False, 'contains(heard)': False, 'contains(happens)': False, 'contains(feeling)': False, 'contains(daughter)': False, 'contains(fight)': False, 'contains(extremely)': False, 'contains(leave)': False, 'contains(blood)': False, 'contains(moment)': False, 'contains(anyway)': False, 'contains(told)': False, 'contains(lack)': False, 'contains(close)': False, 'contains(hour)': False, 'contains(experience)': False, 'contains(coming)': False, 'contains(police)': False, 'contains(score)': False, 'contains(wonder)': False, 'contains(particularly)': False, 'contains(stories)': False, 'contains(including)': False, 'contains(save)': False, 'contains(looked)': False, 'contains(hand)': False, 'contains(david)': False, 'contains(involved)': False, 'contains(chance)': False, 'contains(strong)': False, 'contains(type)': False, 'contains(living)': False, 'contains(violence)': False, 'contains(complete)': False, 'contains(attempt)': False, 'contains(james)': False, 'contains(roles)': False, 'contains(taken)': False, 'contains(shown)': False, 'contains(obvious)': False, 'contains(robert)': False, 'contains(simple)': False, 'contains(hilarious)': False, 'contains(happened)': False, 'contains(happen)': False, 'contains(please)': False, 'contains(serious)': False, 'contains(stop)': False, 'contains(mr.)': False, 'contains(hell)': False, 'contains(cool)': False, 'contains(murder)': False, 'contains(voice)': False, 'contains(song)': False, 'contains(across)': False, 'contains(brother)': False, 'contains(known)': False, 'contains(exactly)': False, 'contains(ago)': False, 'contains(etc)': False, 'contains(opening)': False, 'contains(usually)': False, 'contains(number)': False, 'contains(seriously)': False, 'contains(saying)': False, 'contains(ok)': False, 'contains(released)': False, 'contains(slow)': False, 'contains(none)': False, 'contains(cinematography)': False, 'contains(husband)': False, 'contains(hero)': False, 'contains(crap)': False, 'contains(huge)': False, 'contains(wish)': False, 'contains(jokes)': False, 'contains(whose)': False, 'contains(interest)': False, 'contains(reality)': False, 'contains(english)': False, 'contains(hours)': False, 'contains(order)': False, 'contains(sad)': False, 'contains(alone)': False, 'contains(relationship)': False, 'contains(gore)': False, 'contains(hit)': False, 'contains(annoying)': False, 'contains(running)': False, 'contains(4)': False, 'contains(talent)': False, 'contains(shots)': False, 'contains(possible)': False, 'contains(cut)': False, 'contains(age)': False, 'contains(call)': False, 'contains(career)': False, 'contains(started)': False, 'contains(major)': False, 'contains(mostly)': False, 'contains(female)': False, 'contains(ridiculous)': False, 'contains(taking)': False, 'contains(5)': False, 'contains(beyond)': False, 'contains(ends)': False, 'contains(somewhat)': False, 'contains(usual)': False, 'contains(knew)': False, 'contains(view)': False, 'contains(important)': False, 'contains(body)': False, 'contains(change)': False, 'contains(documentary)': False, 'contains(opinion)': False, 'contains(knows)': False, 'contains(power)': False, 'contains(silly)': False, 'contains(novel)': False, 'contains(turned)': False, 'contains(apparently)': False, 'contains(country)': False, 'contains(words)': False, 'contains(ones)': False, 'contains(finds)': False, 'contains(jack)': False, 'contains(basically)': False, 'contains(word)': False, 'contains(strange)': False, 'contains(due)': False, 'contains(scary)': False, 'contains(upon)': False, 'contains(talking)': False, 'contains(four)': False, 'contains(clearly)': False, 'contains(local)': False, 'contains(rating)': False, 'contains(room)': False, 'contains(attention)': False, 'contains(cheap)': False, 'contains(happy)': False, 'contains(problems)': False, 'contains(musical)': False, 'contains(television)': False, 'contains(episodes)': False, 'contains(level)': False, 'contains(single)': False, 'contains(disappointed)': False, 'contains(sequence)': False, 'contains(it.)': False, 'contains(events)': False, 'contains(british)': False, 'contains(miss)': False, 'contains(tells)': False, 'contains(talk)': False, 'contains(whether)': False, 'contains(king)': False, 'contains(modern)': False, 'contains(light)': False, 'contains(review)': False, 'contains(add)': False, 'contains(george)': False, 'contains(songs)': False, 'contains(french)': False, 'contains(bring)': False, 'contains(predictable)': False, 'contains(easily)': False, 'contains(sets)': False, 'contains(earth)': False, 'contains(appears)': False, 'contains(giving)': False, 'contains(lots)': False, 'contains(supporting)': False, 'contains(team)': False, 'contains(similar)': False, 'contains(mention)': False, 'contains(dialog)': False, 'contains(falls)': False, 'contains(ten)': False, 'contains(soundtrack)': False, 'contains(future)': False, 'contains(entertainment)': False, 'contains(needs)': False, 'contains(writer)': False, 'contains(enjoyable)': False, 'contains(romantic)': False, 'contains(bunch)': False, 'contains(showing)': False, 'contains(within)': False, 'contains(certain)': False, 'contains(moving)': False, 'contains(five)': False, 'contains(hate)': False, 'contains(message)': False, 'contains(surprised)': False, 'contains(tried)': False, 'contains(sorry)': False, 'contains(among)': False, 'contains(space)': False, 'contains(clear)': False, 'contains(filmed)': False, 'contains(comic)': False, 'contains(dull)': False, 'contains(middle)': False, 'contains(sequel)': False, 'contains(theme)': False, 'contains(named)': False, 'contains(parents)': False, 'contains(theater)': False, 'contains(stay)': False, 'contains(fall)': False, 'contains(ways)': False, 'contains(using)': False, 'contains(easy)': False, 'contains(comments)': False, 'contains(monster)': False, 'contains(release)': False, 'contains(storyline)': False, 'contains(sister)': False, 'contains(near)': False, 'contains(richard)': False, 'contains(gone)': False, 'contains(typical)': False, 'contains(lady)': False, 'contains(peter)': False, 'contains(buy)': False, 'contains(kept)': False, 'contains(feels)': False, 'contains(thriller)': False, 'contains(nearly)': False, 'contains(greatest)': False, 'contains(doubt)': False, 'contains(working)': False, 'contains(effort)': False, 'contains(avoid)': False, 'contains(deal)': False, 'contains(means)': False, 'contains(elements)': False, 'contains(suspense)': False, 'contains(actual)': False, 'contains(subject)': False, 'contains(viewers)': False, 'contains(okay)': False, 'contains(tale)': False, 'contains(fantastic)': False, 'contains(movie.)': False, 'contains(imagine)': False, 'contains(editing)': False, 'contains(rock)': False, 'contains(die)': False, 'contains(famous)': False, 'contains(brought)': False, 'contains(check)': False, 'contains(general)': False, 'contains(straight)': False, 'contains(points)': False, 'contains(paul)': False, 'contains(realistic)': False, 'contains(dog)': False, 'contains(move)': False, 'contains(feature)': False, 'contains(somehow)': False, 'contains(viewing)': False, 'contains(tom)': False, 'contains(form)': False, 'contains(forget)': False, 'contains(leads)': False, 'contains(material)': False, 'contains(begins)': False, 'contains(class)': False, 'contains(reviews)': False, 'contains(hear)': False, 'contains(rent)': False, 'contains(mystery)': False, 'contains(film.)': False, 'contains(animation)': False, 'contains(learn)': False, 'contains(eventually)': False, 'contains(york)': False, 'contains(america)': False, 'contains(figure)': False, 'contains(weak)': False, 'contains(wait)': False, 'contains(surprise)': False, 'contains(believable)': False, 'contains(period)': False, 'contains(sit)': False, 'contains(particular)': False, 'contains(doctor)': False, 'contains(premise)': False, 'contains(sequences)': False, 'contains(killing)': False, 'contains(decided)': False, 'contains(expected)': False, 'contains(atmosphere)': False, 'contains(crime)': False, 'contains(fast)': False, 'contains(eye)': False, 'contains(indeed)': False, 'contains(red)': False, 'contains(difficult)': False, 'contains(deep)': False, 'contains(shame)': False, 'contains(truth)': False, 'contains(leaves)': False, 'contains(possibly)': False, 'contains(whatever)': False, 'contains(unless)': False, 'contains(lee)': False, 'contains(follow)': False, 'contains(average)': False, 'contains(lame)': False, 'contains(situation)': False, 'contains(became)': False, 'contains(poorly)': False, 'contains(imdb)': False, 'contains(boys)': False, 'contains(emotional)': False, 'contains(season)': False, 'contains(dance)': False, 'contains(forced)': False, 'contains(crew)': False, 'contains(society)': False, 'contains(needed)': False, 'contains(begin)': False, 'contains(stand)': False, 'contains(footage)': False, 'contains(oscar)': False, 'contains(meet)': False, 'contains(note)': False, 'contains(reading)': False, 'contains(third)': False, 'contains(memorable)': False, 'contains(otherwise)': False, 'contains(open)': False, 'contains(sexual)': False, 'contains(minute)': False, 'contains(romance)': False, 'contains(meets)': False, 'contains(question)': False, 'contains(features)': False, 'contains(write)': False, 'contains(previous)': False, 'contains(beauty)': False, 'contains(interested)': False, 'contains(gay)': False, 'contains(cheesy)': False, 'contains(credits)': False, 'contains(plus)': False, 'contains(western)': False, 'contains(personal)': False, 'contains(sounds)': False, 'contains(superb)': False, 'contains(nature)': False, 'contains(keeps)': False, 'contains(total)': False, 'contains(hot)': False, 'contains(screenplay)': False, 'contains(towards)': False, 'contains(comment)': False, 'contains(hands)': False, 'contains(island)': False, 'contains(male)': False, 'contains(incredibly)': False, 'contains(20)': False, 'contains(perfectly)': False, 'contains(inside)': False, 'contains(weird)': False, 'contains(street)': False, 'contains(box)': False, 'contains(japanese)': False, 'contains(quickly)': False, 'contains(result)': False, 'contains(effect)': False, 'contains(realize)': False, 'contains(de)': False, 'contains(masterpiece)': False, 'contains(battle)': False, 'contains(badly)': False, 'contains(laughs)': False, 'contains(worked)': False, 'contains(joe)': False, 'contains(disney)': False, 'contains(earlier)': False, 'contains(unique)': False, 'contains(various)': False, 'contains(mark)': False, 'contains(copy)': False, 'contains(background)': False, 'contains(older)': False, 'contains(ask)': False, 'contains(brings)': False, 'contains(plenty)': False, 'contains(crazy)': False, 'contains(stage)': False, 'contains(bill)': False, 'contains(dr.)': False, 'contains(setting)': False, 'contains(air)': False, 'contains(appear)': False, 'contains(free)': False, 'contains(following)': False, 'contains(writers)': False, 'contains(powerful)': False, 'contains(admit)': False, 'contains(baby)': False, 'contains(fairly)': False, 'contains(directors)': False, 'contains(business)': False, 'contains(creepy)': False, 'contains(directing)': False, 'contains(leading)': False, 'contains(mess)': False, 'contains(spent)': False, 'contains(acted)': False, 'contains(dramatic)': False, 'contains(development)': False, 'contains(portrayed)': False, 'contains(front)': False, 'contains(rich)': False, 'contains(william)': False, 'contains(apart)': False, 'contains(forward)': False, 'contains(sci-fi)': False, 'contains(dumb)': False, 'contains(outside)': False, 'contains(pay)': False, 'contains(water)': False, 'contains(cop)': False, 'contains(fire)': False, 'contains(meant)': False, \"contains('the)\": False, 'contains(joke)': False, 'contains(deserves)': False, 'contains(attempts)': False, 'contains(manages)': False, 'contains(fails)': False, 'contains(reasons)': False, 'contains(wasted)': False, 'contains(girlfriend)': False, 'contains(political)': False, 'contains(expecting)': False, 'contains(create)': False, 'contains(unlike)': False, 'contains(caught)': False, 'contains(ideas)': False, 'contains(agree)': False, 'contains(hardly)': False, 'contains(recently)': False, 'contains(fighting)': False, 'contains(return)': False, 'contains(party)': False, 'contains(success)': False, 'contains(missing)': False, 'contains(cover)': False, 'contains(present)': False, 'contains(large)': False, 'contains(80)': False, 'contains(clever)': False, 'contains(plain)': False, 'contains(dream)': False, 'contains(twist)': False, 'contains(talented)': False, 'contains(secret)': False, 'contains(villain)': False, 'contains(b)': False, 'contains(cute)': False, 'contains(remake)': False, 'contains(ended)': False, 'contains(filmmakers)': False, 'contains(laughing)': False, 'contains(members)': False, 'contains(telling)': False, 'contains(zombie)': False, 'contains(escape)': False, 'contains(pure)': False, 'contains(german)': False, 'contains(break)': False, 'contains(public)': False, 'contains(casting)': False, 'contains(waiting)': False, 'contains(potential)': False, 'contains(odd)': False, 'contains(gun)': False, 'contains(nudity)': False, 'contains(pace)': False, 'contains(considering)': False, 'contains(created)': False, 'contains(married)': False, 'contains(match)': False, 'contains(missed)': False, 'contains(sadly)': False, 'contains(hold)': False, 'contains(slightly)': False, 'contains(visual)': False, 'contains(incredible)': False, 'contains(company)': False, 'contains(van)': False, 'contains(scott)': False, 'contains(italian)': False, 'contains(familiar)': False, 'contains(died)': False, 'contains(state)': False, 'contains(decides)': False, 'contains(era)': False, 'contains(uses)': False, 'contains(cartoon)': False, 'contains(list)': False, 'contains(sees)': False, 'contains(fantasy)': False, 'contains(mentioned)': False, 'contains(entirely)': False, 'contains(popular)': False, 'contains(credit)': False, 'contains(speak)': False, 'contains(train)': False, 'contains(wrote)': False, 'contains(compared)': False, 'contains(neither)': False, 'contains(produced)': False, 'contains(appreciate)': False, 'contains(bored)': False, 'contains(follows)': False, 'contains(jane)': False, 'contains(suddenly)': False, 'contains(amount)': False, 'contains(convincing)': False, 'contains(rate)': False, 'contains(office)': False, 'contains(fit)': False, 'contains(former)': False, 'contains(biggest)': False, 'contains(portrayal)': False, 'contains(younger)': False, 'contains(moves)': False, 'contains(store)': False, 'contains(tension)': False, 'contains(intelligent)': False, 'contains(flat)': False, 'contains(sweet)': False, 'contains(language)': False, 'contains(common)': False, 'contains(value)': False, 'contains(band)': False, 'contains(dancing)': False, 'contains(trouble)': False, 'contains(brothers)': False, 'contains(images)': False, 'contains(yeah)': False, 'contains(violent)': False, 'contains(science)': False, 'contains(college)': False, 'contains(choice)': False, 'contains(century)': False, 'contains(filled)': False, 'contains(fear)': False, 'contains(social)': False, 'contains(spend)': False, 'contains(concept)': False, 'contains(force)': False, 'contains(cause)': False, 'contains(successful)': False, 'contains(ultimately)': False, 'contains(recent)': False, 'contains(cold)': False, 'contains(alive)': False, 'contains(producers)': False, 'contains(30)': False, 'contains(hair)': False, 'contains(bizarre)': False, 'contains(basic)': False, 'contains(decide)': False, 'contains(kills)': False, 'contains(la)': False, 'contains(recommended)': False, 'contains(mad)': False, 'contains(exciting)': False, 'contains(project)': False, 'contains(consider)': False, 'contains(longer)': False, 'contains(christmas)': False, 'contains(focus)': False, 'contains(amusing)': False, 'contains(situations)': False}\n"
          ],
          "name": "stdout"
        }
      ]
    },
    {
      "cell_type": "code",
      "metadata": {
        "id": "F7PlB1vkENXq"
      },
      "source": [
        "feature_set= [(features_function(d),category) for (d,category) in doc]"
      ],
      "execution_count": null,
      "outputs": []
    },
    {
      "cell_type": "code",
      "metadata": {
        "id": "7ygvSnswFKti"
      },
      "source": [
        "print(len(feature_set))"
      ],
      "execution_count": null,
      "outputs": []
    },
    {
      "cell_type": "code",
      "metadata": {
        "id": "q9F3nXARFAMd"
      },
      "source": [
        "print(feature_set[0])"
      ],
      "execution_count": null,
      "outputs": []
    },
    {
      "cell_type": "code",
      "metadata": {
        "id": "5kVuDV8rFRDV"
      },
      "source": [
        "test_set= feature_set[:3000]\r\n",
        "train_set= feature_set[3000:] \r\n",
        "print(len(train_set))\r\n",
        "print(len(test_set))"
      ],
      "execution_count": null,
      "outputs": []
    },
    {
      "cell_type": "code",
      "metadata": {
        "id": "ex1_SbfLFYcv"
      },
      "source": [
        "from nltk import NaiveBayesClassifier\r\n",
        "nb= NaiveBayesClassifier.train(train_set)"
      ],
      "execution_count": null,
      "outputs": []
    },
    {
      "cell_type": "code",
      "metadata": {
        "id": "hVhUAhc4FZ44"
      },
      "source": [
        "from nltk import classify \r\n",
        "accuracy=classify.accuracy(nb, test_set)\r\n",
        "print(accuracy) "
      ],
      "execution_count": null,
      "outputs": []
    }
  ]
}